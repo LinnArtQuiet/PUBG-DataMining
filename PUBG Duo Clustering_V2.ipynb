{
 "cells": [
  {
   "cell_type": "markdown",
   "metadata": {},
   "source": [
    "# PUBG绝地求生聚类分析[双排]\n",
    "\n",
    "<p>运用到的方法：Kmeans, AGG, DBSCAN"
   ]
  },
  {
   "cell_type": "markdown",
   "metadata": {},
   "source": [
    "## 1、全特征聚类"
   ]
  },
  {
   "cell_type": "code",
   "execution_count": 1,
   "metadata": {},
   "outputs": [
    {
     "data": {
      "text/plain": [
       "(50000, 32)"
      ]
     },
     "execution_count": 1,
     "metadata": {},
     "output_type": "execute_result"
    }
   ],
   "source": [
    "import pandas as pd\n",
    "import numpy as np\n",
    "#读取数据集sampleSquad.csv\n",
    "data = pd.read_csv('sampleDuo_V2.csv')\n",
    "data.shape"
   ]
  },
  {
   "cell_type": "code",
   "execution_count": 2,
   "metadata": {},
   "outputs": [
    {
     "data": {
      "text/html": [
       "<div>\n",
       "<style scoped>\n",
       "    .dataframe tbody tr th:only-of-type {\n",
       "        vertical-align: middle;\n",
       "    }\n",
       "\n",
       "    .dataframe tbody tr th {\n",
       "        vertical-align: top;\n",
       "    }\n",
       "\n",
       "    .dataframe thead th {\n",
       "        text-align: right;\n",
       "    }\n",
       "</style>\n",
       "<table border=\"1\" class=\"dataframe\">\n",
       "  <thead>\n",
       "    <tr style=\"text-align: right;\">\n",
       "      <th></th>\n",
       "      <th>assists</th>\n",
       "      <th>boosts</th>\n",
       "      <th>damageDealt</th>\n",
       "      <th>DBNOs</th>\n",
       "      <th>headshotKills</th>\n",
       "      <th>heals</th>\n",
       "      <th>killPlace</th>\n",
       "      <th>kills</th>\n",
       "      <th>killStreaks</th>\n",
       "      <th>longestKill</th>\n",
       "      <th>...</th>\n",
       "      <th>kill_rate</th>\n",
       "      <th>playersInGroup</th>\n",
       "      <th>weaponsPerDistance</th>\n",
       "      <th>healsPerDistance</th>\n",
       "      <th>killsPerDistance</th>\n",
       "      <th>distance_over_weapons</th>\n",
       "      <th>distance_over_heals</th>\n",
       "      <th>distance_over_kills</th>\n",
       "      <th>healthitems</th>\n",
       "      <th>skill</th>\n",
       "    </tr>\n",
       "  </thead>\n",
       "  <tbody>\n",
       "    <tr>\n",
       "      <th>0</th>\n",
       "      <td>0.00</td>\n",
       "      <td>0</td>\n",
       "      <td>57.6828</td>\n",
       "      <td>0.00</td>\n",
       "      <td>0.00</td>\n",
       "      <td>0</td>\n",
       "      <td>91.56</td>\n",
       "      <td>0.00</td>\n",
       "      <td>0.00</td>\n",
       "      <td>0.00</td>\n",
       "      <td>...</td>\n",
       "      <td>0.0</td>\n",
       "      <td>2</td>\n",
       "      <td>0.008084</td>\n",
       "      <td>0.000000</td>\n",
       "      <td>0.000000</td>\n",
       "      <td>123.700000</td>\n",
       "      <td>0.0</td>\n",
       "      <td>0.000000</td>\n",
       "      <td>0</td>\n",
       "      <td>0.00</td>\n",
       "    </tr>\n",
       "    <tr>\n",
       "      <th>1</th>\n",
       "      <td>0.00</td>\n",
       "      <td>0</td>\n",
       "      <td>143.6240</td>\n",
       "      <td>1.04</td>\n",
       "      <td>0.00</td>\n",
       "      <td>0</td>\n",
       "      <td>32.24</td>\n",
       "      <td>1.04</td>\n",
       "      <td>1.04</td>\n",
       "      <td>67.56</td>\n",
       "      <td>...</td>\n",
       "      <td>0.5</td>\n",
       "      <td>2</td>\n",
       "      <td>0.012780</td>\n",
       "      <td>0.000000</td>\n",
       "      <td>0.006645</td>\n",
       "      <td>78.250000</td>\n",
       "      <td>0.0</td>\n",
       "      <td>150.480769</td>\n",
       "      <td>0</td>\n",
       "      <td>1.04</td>\n",
       "    </tr>\n",
       "    <tr>\n",
       "      <th>2</th>\n",
       "      <td>1.02</td>\n",
       "      <td>1</td>\n",
       "      <td>186.1500</td>\n",
       "      <td>1.02</td>\n",
       "      <td>0.00</td>\n",
       "      <td>2</td>\n",
       "      <td>39.78</td>\n",
       "      <td>0.00</td>\n",
       "      <td>0.00</td>\n",
       "      <td>0.00</td>\n",
       "      <td>...</td>\n",
       "      <td>0.0</td>\n",
       "      <td>2</td>\n",
       "      <td>0.000863</td>\n",
       "      <td>0.000637</td>\n",
       "      <td>0.000000</td>\n",
       "      <td>1158.750000</td>\n",
       "      <td>2317.5</td>\n",
       "      <td>0.000000</td>\n",
       "      <td>3</td>\n",
       "      <td>0.00</td>\n",
       "    </tr>\n",
       "    <tr>\n",
       "      <th>3</th>\n",
       "      <td>2.06</td>\n",
       "      <td>3</td>\n",
       "      <td>293.2410</td>\n",
       "      <td>1.03</td>\n",
       "      <td>1.03</td>\n",
       "      <td>1</td>\n",
       "      <td>18.54</td>\n",
       "      <td>2.06</td>\n",
       "      <td>2.06</td>\n",
       "      <td>57.12</td>\n",
       "      <td>...</td>\n",
       "      <td>0.4</td>\n",
       "      <td>2</td>\n",
       "      <td>0.001181</td>\n",
       "      <td>0.000525</td>\n",
       "      <td>0.001081</td>\n",
       "      <td>846.766667</td>\n",
       "      <td>2540.3</td>\n",
       "      <td>1233.155340</td>\n",
       "      <td>4</td>\n",
       "      <td>3.09</td>\n",
       "    </tr>\n",
       "    <tr>\n",
       "      <th>4</th>\n",
       "      <td>0.00</td>\n",
       "      <td>0</td>\n",
       "      <td>19.1152</td>\n",
       "      <td>0.00</td>\n",
       "      <td>0.00</td>\n",
       "      <td>0</td>\n",
       "      <td>75.92</td>\n",
       "      <td>0.00</td>\n",
       "      <td>0.00</td>\n",
       "      <td>0.00</td>\n",
       "      <td>...</td>\n",
       "      <td>0.0</td>\n",
       "      <td>2</td>\n",
       "      <td>0.008536</td>\n",
       "      <td>0.000000</td>\n",
       "      <td>0.000000</td>\n",
       "      <td>117.150000</td>\n",
       "      <td>0.0</td>\n",
       "      <td>0.000000</td>\n",
       "      <td>0</td>\n",
       "      <td>0.00</td>\n",
       "    </tr>\n",
       "  </tbody>\n",
       "</table>\n",
       "<p>5 rows × 30 columns</p>\n",
       "</div>"
      ],
      "text/plain": [
       "   assists  boosts  damageDealt  DBNOs  headshotKills  heals  killPlace  \\\n",
       "0     0.00       0      57.6828   0.00           0.00      0      91.56   \n",
       "1     0.00       0     143.6240   1.04           0.00      0      32.24   \n",
       "2     1.02       1     186.1500   1.02           0.00      2      39.78   \n",
       "3     2.06       3     293.2410   1.03           1.03      1      18.54   \n",
       "4     0.00       0      19.1152   0.00           0.00      0      75.92   \n",
       "\n",
       "   kills  killStreaks  longestKill  ...  kill_rate  playersInGroup  \\\n",
       "0   0.00         0.00         0.00  ...        0.0               2   \n",
       "1   1.04         1.04        67.56  ...        0.5               2   \n",
       "2   0.00         0.00         0.00  ...        0.0               2   \n",
       "3   2.06         2.06        57.12  ...        0.4               2   \n",
       "4   0.00         0.00         0.00  ...        0.0               2   \n",
       "\n",
       "   weaponsPerDistance  healsPerDistance  killsPerDistance  \\\n",
       "0            0.008084          0.000000          0.000000   \n",
       "1            0.012780          0.000000          0.006645   \n",
       "2            0.000863          0.000637          0.000000   \n",
       "3            0.001181          0.000525          0.001081   \n",
       "4            0.008536          0.000000          0.000000   \n",
       "\n",
       "   distance_over_weapons  distance_over_heals  distance_over_kills  \\\n",
       "0             123.700000                  0.0             0.000000   \n",
       "1              78.250000                  0.0           150.480769   \n",
       "2            1158.750000               2317.5             0.000000   \n",
       "3             846.766667               2540.3          1233.155340   \n",
       "4             117.150000                  0.0             0.000000   \n",
       "\n",
       "   healthitems  skill  \n",
       "0            0   0.00  \n",
       "1            0   1.04  \n",
       "2            3   0.00  \n",
       "3            4   3.09  \n",
       "4            0   0.00  \n",
       "\n",
       "[5 rows x 30 columns]"
      ]
     },
     "execution_count": 2,
     "metadata": {},
     "output_type": "execute_result"
    }
   ],
   "source": [
    "# 挑选出用于聚类的特征\n",
    "data_cluster = data.drop(columns=['winPlacePerc','matchDuration'])\n",
    "column = data_cluster.columns\n",
    "data_cluster.head()"
   ]
  },
  {
   "cell_type": "code",
   "execution_count": 3,
   "metadata": {},
   "outputs": [
    {
     "data": {
      "text/plain": [
       "array([[-0.41644868, -0.6804515 , -0.49830031, ..., -0.48466475,\n",
       "        -0.67495354, -0.71670715],\n",
       "       [-0.41644868, -0.6804515 , -0.02696139, ..., -0.36436361,\n",
       "        -0.67495354,  0.11961629],\n",
       "       [ 1.30989958, -0.11823428,  0.2062697 , ..., -0.48466475,\n",
       "         0.08160774, -0.71670715],\n",
       "       ...,\n",
       "       [ 4.86414599, -0.6804515 ,  1.38245066, ...,  0.22453544,\n",
       "        -0.67495354,  0.11961629],\n",
       "       [-0.41644868, -0.6804515 , -0.38527269, ...,  0.70092766,\n",
       "         2.3512916 ,  0.13569943],\n",
       "       [-0.41644868, -0.6804515 , -0.81465788, ..., -0.48466475,\n",
       "        -0.67495354, -0.71670715]])"
      ]
     },
     "execution_count": 3,
     "metadata": {},
     "output_type": "execute_result"
    }
   ],
   "source": [
    "# Z-score标准化\n",
    "from sklearn.preprocessing import StandardScaler\n",
    "ss = StandardScaler()\n",
    "data_input = ss.fit_transform(data_cluster)\n",
    "data_input"
   ]
  },
  {
   "cell_type": "markdown",
   "metadata": {},
   "source": [
    "### Kmeans聚类"
   ]
  },
  {
   "cell_type": "code",
   "execution_count": 4,
   "metadata": {},
   "outputs": [
    {
     "name": "stdout",
     "output_type": "stream",
     "text": [
      "0.2638441272653186\n",
      "6\n"
     ]
    }
   ],
   "source": [
    "# k-means聚类\n",
    "from sklearn.cluster import KMeans\n",
    "from sklearn.metrics import silhouette_score\n",
    "#####这里k-means的聚类数需要看上面画出的图自行判断\n",
    "kmeans = KMeans(n_clusters=6)#n_clusters即为K值\n",
    "data_cluster['kmeans'] = kmeans.fit_predict(data_input)\n",
    "print(silhouette_score(data_input,data_cluster['kmeans']))\n",
    "print(len(np.unique(data_cluster['kmeans'])))"
   ]
  },
  {
   "cell_type": "code",
   "execution_count": 5,
   "metadata": {},
   "outputs": [
    {
     "data": {
      "image/png": "[encoded data removed]",
      "text/plain": [
       "<Figure size 432x288 with 1 Axes>"
      ]
     },
     "metadata": {
      "needs_background": "light"
     },
     "output_type": "display_data"
    }
   ],
   "source": [
    "# K-means调参\n",
    "import matplotlib.pyplot as plt\n",
    "K=range(2,10)\n",
    "score=[]\n",
    "for k in K:\n",
    "    kmeans=KMeans(n_clusters=k)\n",
    "    kmeans.fit(data_input)\n",
    "    score.append(silhouette_score(data_input,kmeans.labels_,metric='euclidean'))\n",
    "    \n",
    "plt.plot(K,score,'r*-')\n",
    "plt.xlabel('k')\n",
    "plt.ylabel(u'silhouette_score')\n",
    "plt.title(u'Best K by silhouette score')\n",
    "plt.show()"
   ]
  },
  {
   "cell_type": "markdown",
   "metadata": {},
   "source": [
    "### AGG层次聚类"
   ]
  },
  {
   "cell_type": "code",
   "execution_count": 6,
   "metadata": {},
   "outputs": [
    {
     "name": "stdout",
     "output_type": "stream",
     "text": [
      "0.26642227601527624\n",
      "7\n"
     ]
    }
   ],
   "source": [
    "# 层次聚类\n",
    "from sklearn.cluster import AgglomerativeClustering\n",
    "#####这里的distance_threshold需要自己试，试了10、100、500、300\n",
    "AGG = AgglomerativeClustering(distance_threshold=300,n_clusters=None,linkage = 'ward')#distance_threshold为停止合并簇类的距离\n",
    "data_cluster['agg'] = AGG.fit_predict(data_input)\n",
    "print(silhouette_score(data_input,data_cluster['agg']))\n",
    "print(len(np.unique(data_cluster['agg'])))"
   ]
  },
  {
   "cell_type": "code",
   "execution_count": 7,
   "metadata": {},
   "outputs": [
    {
     "name": "stdout",
     "output_type": "stream",
     "text": [
      "      assists    boosts  damageDealt     DBNOs  headshotKills     heals  \\\n",
      "agg                                                                       \n",
      "0    0.154146  1.234231   167.959990  0.889594       0.295906  1.535155   \n",
      "1    0.113672  0.476248    44.499536  0.140766       0.000000  0.639177   \n",
      "2    0.268919  1.291775   206.989351  1.069811       0.408851  1.554479   \n",
      "3    0.617023  2.851175   303.919008  1.305379       0.535953  2.869452   \n",
      "4    0.296189  1.967202   128.995531  0.537019       0.140735  1.698590   \n",
      "5    0.919031  4.458996   513.763733  2.501302       1.202584  5.605119   \n",
      "6    0.389340  2.415094   362.076580  1.870566       0.541887  3.603774   \n",
      "\n",
      "     killPlace     kills  killStreaks  longestKill  ...  kill_rate  \\\n",
      "agg                                                 ...              \n",
      "0    43.230812  1.292391     0.792575    24.421961  ...   0.337004   \n",
      "1    70.092667  0.000136     0.000090     0.001138  ...   0.000050   \n",
      "2    26.652428  1.752444     1.272313    40.045714  ...   0.584827   \n",
      "3    24.635953  2.467755     1.155509    64.411351  ...   0.461211   \n",
      "4    38.064618  0.780459     0.569990    27.694959  ...   0.281368   \n",
      "5     8.451921  4.437560     1.688894   102.843998  ...   0.569062   \n",
      "6    16.894057  3.050660     1.467925    60.866198  ...   0.579768   \n",
      "\n",
      "     playersInGroup  weaponsPerDistance  healsPerDistance  killsPerDistance  \\\n",
      "agg                                                                           \n",
      "0          1.344717            0.007989          0.001526      2.310822e-03   \n",
      "1          1.999958            0.018090          0.000561      1.123495e-07   \n",
      "2          1.999814            0.010353          0.002431      5.304306e-03   \n",
      "3          1.966057            0.001550          0.001385      1.125012e-03   \n",
      "4          1.981633            0.000854          0.000851      3.687836e-04   \n",
      "5          1.995527            0.001659          0.002431      1.830116e-03   \n",
      "6          1.971698            0.001341          0.002295      2.842802e-03   \n",
      "\n",
      "     distance_over_weapons  distance_over_heals  distance_over_kills  \\\n",
      "agg                                                                    \n",
      "0               416.861907           551.278269           529.827801   \n",
      "1               265.213106           271.080086             0.084893   \n",
      "2               372.893798           576.740643           991.721559   \n",
      "3              1054.917814          1772.688378          1737.845675   \n",
      "4              1532.784559          2879.259416          2204.634707   \n",
      "5               832.101816          1259.028986          1339.099494   \n",
      "6               992.733141          1813.384119          2367.960783   \n",
      "\n",
      "     healthitems     skill  \n",
      "agg                         \n",
      "0       2.769385  1.088481  \n",
      "1       1.115425  0.000090  \n",
      "2       2.846254  1.681165  \n",
      "3       5.720627  1.691462  \n",
      "4       3.665792  0.710725  \n",
      "5      10.064115  2.891479  \n",
      "6       6.018868  3.186038  \n",
      "\n",
      "[7 rows x 30 columns]\n",
      "0.2495999027528578\n",
      "7\n"
     ]
    }
   ],
   "source": [
    "# 采用层次聚类法得到的聚类中心，作为k-means算法的初始点\n",
    "center_point = data_cluster.groupby('agg').mean()[column]# 计算聚类中心点\n",
    "print(center_point)\n",
    "#####这里k-means的聚类数需要看上面画出的图自行判断\n",
    "kmeans = KMeans(n_clusters=7,init=center_point,n_init=1)#自定义k-means初始聚类中心\n",
    "data_cluster['kmeans_init_by_agg'] = kmeans.fit_predict(data_input)\n",
    "print(silhouette_score(data_input,data_cluster['kmeans_init_by_agg']))\n",
    "print(len(np.unique(data_cluster['kmeans_init_by_agg'])))"
   ]
  },
  {
   "cell_type": "markdown",
   "metadata": {},
   "source": [
    "### DBSCAN聚类"
   ]
  },
  {
   "cell_type": "code",
   "execution_count": 8,
   "metadata": {},
   "outputs": [
    {
     "name": "stdout",
     "output_type": "stream",
     "text": [
      "0.6929022094597646\n",
      "3\n"
     ]
    }
   ],
   "source": [
    "#DBSCAN聚类\n",
    "from sklearn.cluster import DBSCAN\n",
    "from sklearn.metrics import silhouette_score\n",
    "DB = DBSCAN(eps=15,min_samples=30)#eps为密度半径\n",
    "data_cluster['dbscan'] = DB.fit_predict(data_input)\n",
    "print(silhouette_score(data_input,data_cluster['dbscan']))\n",
    "print(len(np.unique(data_cluster['dbscan'])))"
   ]
  },
  {
   "cell_type": "markdown",
   "metadata": {},
   "source": [
    "DBSCAN聚类的效果最好，因此对DBSCAN方法进行深入调参"
   ]
  },
  {
   "cell_type": "code",
   "execution_count": 9,
   "metadata": {},
   "outputs": [
    {
     "data": {
      "text/html": [
       "<div>\n",
       "<style scoped>\n",
       "    .dataframe tbody tr th:only-of-type {\n",
       "        vertical-align: middle;\n",
       "    }\n",
       "\n",
       "    .dataframe tbody tr th {\n",
       "        vertical-align: top;\n",
       "    }\n",
       "\n",
       "    .dataframe thead th {\n",
       "        text-align: right;\n",
       "    }\n",
       "</style>\n",
       "<table border=\"1\" class=\"dataframe\">\n",
       "  <thead>\n",
       "    <tr style=\"text-align: right;\">\n",
       "      <th></th>\n",
       "      <th>eps</th>\n",
       "      <th>min_samples</th>\n",
       "      <th>score</th>\n",
       "      <th>clu_num</th>\n",
       "    </tr>\n",
       "  </thead>\n",
       "  <tbody>\n",
       "    <tr>\n",
       "      <th>0</th>\n",
       "      <td>6</td>\n",
       "      <td>10</td>\n",
       "      <td>0.355303</td>\n",
       "      <td>8</td>\n",
       "    </tr>\n",
       "    <tr>\n",
       "      <th>1</th>\n",
       "      <td>6</td>\n",
       "      <td>20</td>\n",
       "      <td>0.354571</td>\n",
       "      <td>7</td>\n",
       "    </tr>\n",
       "    <tr>\n",
       "      <th>2</th>\n",
       "      <td>6</td>\n",
       "      <td>30</td>\n",
       "      <td>0.353877</td>\n",
       "      <td>5</td>\n",
       "    </tr>\n",
       "    <tr>\n",
       "      <th>3</th>\n",
       "      <td>9</td>\n",
       "      <td>10</td>\n",
       "      <td>0.559603</td>\n",
       "      <td>5</td>\n",
       "    </tr>\n",
       "    <tr>\n",
       "      <th>4</th>\n",
       "      <td>9</td>\n",
       "      <td>20</td>\n",
       "      <td>0.559483</td>\n",
       "      <td>4</td>\n",
       "    </tr>\n",
       "    <tr>\n",
       "      <th>5</th>\n",
       "      <td>9</td>\n",
       "      <td>30</td>\n",
       "      <td>0.559499</td>\n",
       "      <td>4</td>\n",
       "    </tr>\n",
       "    <tr>\n",
       "      <th>6</th>\n",
       "      <td>12</td>\n",
       "      <td>10</td>\n",
       "      <td>0.690942</td>\n",
       "      <td>4</td>\n",
       "    </tr>\n",
       "    <tr>\n",
       "      <th>7</th>\n",
       "      <td>12</td>\n",
       "      <td>20</td>\n",
       "      <td>0.690759</td>\n",
       "      <td>3</td>\n",
       "    </tr>\n",
       "    <tr>\n",
       "      <th>8</th>\n",
       "      <td>12</td>\n",
       "      <td>30</td>\n",
       "      <td>0.690785</td>\n",
       "      <td>3</td>\n",
       "    </tr>\n",
       "  </tbody>\n",
       "</table>\n",
       "</div>"
      ],
      "text/plain": [
       "   eps  min_samples     score  clu_num\n",
       "0    6           10  0.355303        8\n",
       "1    6           20  0.354571        7\n",
       "2    6           30  0.353877        5\n",
       "3    9           10  0.559603        5\n",
       "4    9           20  0.559483        4\n",
       "5    9           30  0.559499        4\n",
       "6   12           10  0.690942        4\n",
       "7   12           20  0.690759        3\n",
       "8   12           30  0.690785        3"
      ]
     },
     "execution_count": 9,
     "metadata": {},
     "output_type": "execute_result"
    }
   ],
   "source": [
    "from sklearn.cluster import DBSCAN\n",
    "from sklearn.metrics import silhouette_score\n",
    "res = []\n",
    "# 迭代不同的eps值\n",
    "for eps in np.arange(6,15,3):\n",
    "    # 迭代不同的min_samples值\n",
    "    for min_samples in np.arange(10,40,10):\n",
    "        dbscan = DBSCAN(eps = eps, min_samples = min_samples)\n",
    "        # 模型拟合\n",
    "        db_pre = dbscan.fit_predict(data_input)\n",
    "        #统计轮廓系数\n",
    "        k = silhouette_score(data_input,db_pre)\n",
    "        clu_num = len(np.unique(db_pre))\n",
    "        res.append({'eps':eps,'min_samples':min_samples,'score':k, 'clu_num':clu_num})\n",
    "# 将迭代后的结果存储到数据框中        \n",
    "df = pd.DataFrame(res)\n",
    "\n",
    "df"
   ]
  },
  {
   "cell_type": "markdown",
   "metadata": {},
   "source": [
    "在4个簇类中（表格中的簇类结果包含-1），选择轮廓系数最好的参数组合为：eps=9,min_samples=10"
   ]
  },
  {
   "cell_type": "code",
   "execution_count": 10,
   "metadata": {},
   "outputs": [
    {
     "name": "stdout",
     "output_type": "stream",
     "text": [
      "0.5596033340173746\n",
      "5\n"
     ]
    }
   ],
   "source": [
    "#DBSCAN聚类\n",
    "# 选择上面调参得出的最佳表现的参数组合进行聚类\n",
    "from sklearn.cluster import DBSCAN\n",
    "from sklearn.metrics import silhouette_score\n",
    "DB = DBSCAN(eps=9,min_samples=10)#eps为密度半径\n",
    "data['dbscan'] = DB.fit_predict(data_input)\n",
    "print(silhouette_score(data_input,data['dbscan']))\n",
    "print(len(np.unique(data['dbscan'])))"
   ]
  },
  {
   "cell_type": "code",
   "execution_count": 11,
   "metadata": {},
   "outputs": [
    {
     "data": {
      "text/plain": [
       " 0    49477\n",
       " 2      373\n",
       " 1       89\n",
       "-1       50\n",
       " 3       11\n",
       "Name: dbscan, dtype: int64"
      ]
     },
     "execution_count": 11,
     "metadata": {},
     "output_type": "execute_result"
    }
   ],
   "source": [
    "data['dbscan'].value_counts()"
   ]
  },
  {
   "cell_type": "code",
   "execution_count": 12,
   "metadata": {},
   "outputs": [
    {
     "name": "stdout",
     "output_type": "stream",
     "text": [
      "<class 'pandas.core.frame.DataFrame'>\n",
      "RangeIndex: 50000 entries, 0 to 49999\n",
      "Data columns (total 33 columns):\n",
      " #   Column                 Non-Null Count  Dtype  \n",
      "---  ------                 --------------  -----  \n",
      " 0   assists                50000 non-null  float64\n",
      " 1   boosts                 50000 non-null  int64  \n",
      " 2   damageDealt            50000 non-null  float64\n",
      " 3   DBNOs                  50000 non-null  float64\n",
      " 4   headshotKills          50000 non-null  float64\n",
      " 5   heals                  50000 non-null  int64  \n",
      " 6   killPlace              50000 non-null  float64\n",
      " 7   kills                  50000 non-null  float64\n",
      " 8   killStreaks            50000 non-null  float64\n",
      " 9   longestKill            50000 non-null  float64\n",
      " 10  matchDuration          50000 non-null  float64\n",
      " 11  revives                50000 non-null  int64  \n",
      " 12  rideDistance           50000 non-null  float64\n",
      " 13  roadKills              50000 non-null  float64\n",
      " 14  swimDistance           50000 non-null  float64\n",
      " 15  teamKills              50000 non-null  int64  \n",
      " 16  vehicleDestroys        50000 non-null  int64  \n",
      " 17  walkDistance           50000 non-null  float64\n",
      " 18  weaponsAcquired        50000 non-null  int64  \n",
      " 19  winPlacePerc           50000 non-null  float64\n",
      " 20  totalDistance          50000 non-null  float64\n",
      " 21  headshot_rate          50000 non-null  float64\n",
      " 22  kill_rate              50000 non-null  float64\n",
      " 23  playersInGroup         50000 non-null  int64  \n",
      " 24  weaponsPerDistance     50000 non-null  float64\n",
      " 25  healsPerDistance       50000 non-null  float64\n",
      " 26  killsPerDistance       50000 non-null  float64\n",
      " 27  distance_over_weapons  50000 non-null  float64\n",
      " 28  distance_over_heals    50000 non-null  float64\n",
      " 29  distance_over_kills    50000 non-null  float64\n",
      " 30  healthitems            50000 non-null  int64  \n",
      " 31  skill                  50000 non-null  float64\n",
      " 32  dbscan                 50000 non-null  int64  \n",
      "dtypes: float64(24), int64(9)\n",
      "memory usage: 12.6 MB\n"
     ]
    }
   ],
   "source": [
    "data.info()"
   ]
  },
  {
   "cell_type": "code",
   "execution_count": 13,
   "metadata": {},
   "outputs": [],
   "source": [
    "data.to_csv('data_cluster_duo_V2.csv',index=False)"
   ]
  },
  {
   "cell_type": "markdown",
   "metadata": {},
   "source": [
    "## 2、特征选择后聚类"
   ]
  },
  {
   "cell_type": "code",
   "execution_count": 1,
   "metadata": {},
   "outputs": [
    {
     "data": {
      "text/plain": [
       "(50000, 21)"
      ]
     },
     "execution_count": 1,
     "metadata": {},
     "output_type": "execute_result"
    }
   ],
   "source": [
    "import pandas as pd\n",
    "import numpy as np\n",
    "#读取数据集sampleSquad.csv\n",
    "data = pd.read_csv('selectDuo_V2.csv')\n",
    "data.shape"
   ]
  },
  {
   "cell_type": "code",
   "execution_count": 2,
   "metadata": {},
   "outputs": [
    {
     "name": "stdout",
     "output_type": "stream",
     "text": [
      "<class 'pandas.core.frame.DataFrame'>\n",
      "RangeIndex: 50000 entries, 0 to 49999\n",
      "Data columns (total 21 columns):\n",
      " #   Column                 Non-Null Count  Dtype  \n",
      "---  ------                 --------------  -----  \n",
      " 0   Unnamed: 0             50000 non-null  int64  \n",
      " 1   assists                50000 non-null  float64\n",
      " 2   boosts                 50000 non-null  int64  \n",
      " 3   damageDealt            50000 non-null  float64\n",
      " 4   DBNOs                  50000 non-null  float64\n",
      " 5   heals                  50000 non-null  int64  \n",
      " 6   killPlace              50000 non-null  float64\n",
      " 7   kills                  50000 non-null  float64\n",
      " 8   killStreaks            50000 non-null  float64\n",
      " 9   longestKill            50000 non-null  float64\n",
      " 10  rideDistance           50000 non-null  float64\n",
      " 11  walkDistance           50000 non-null  float64\n",
      " 12  weaponsAcquired        50000 non-null  int64  \n",
      " 13  winPlacePerc           50000 non-null  float64\n",
      " 14  totalDistance          50000 non-null  float64\n",
      " 15  kill_rate              50000 non-null  float64\n",
      " 16  distance_over_weapons  50000 non-null  float64\n",
      " 17  distance_over_heals    50000 non-null  float64\n",
      " 18  distance_over_kills    50000 non-null  float64\n",
      " 19  healthitems            50000 non-null  int64  \n",
      " 20  skill                  50000 non-null  float64\n",
      "dtypes: float64(16), int64(5)\n",
      "memory usage: 8.0 MB\n"
     ]
    }
   ],
   "source": [
    "data.info()"
   ]
  },
  {
   "cell_type": "code",
   "execution_count": 16,
   "metadata": {},
   "outputs": [
    {
     "data": {
      "text/html": [
       "<div>\n",
       "<style scoped>\n",
       "    .dataframe tbody tr th:only-of-type {\n",
       "        vertical-align: middle;\n",
       "    }\n",
       "\n",
       "    .dataframe tbody tr th {\n",
       "        vertical-align: top;\n",
       "    }\n",
       "\n",
       "    .dataframe thead th {\n",
       "        text-align: right;\n",
       "    }\n",
       "</style>\n",
       "<table border=\"1\" class=\"dataframe\">\n",
       "  <thead>\n",
       "    <tr style=\"text-align: right;\">\n",
       "      <th></th>\n",
       "      <th>Unnamed: 0</th>\n",
       "      <th>assists</th>\n",
       "      <th>boosts</th>\n",
       "      <th>damageDealt</th>\n",
       "      <th>DBNOs</th>\n",
       "      <th>heals</th>\n",
       "      <th>killPlace</th>\n",
       "      <th>kills</th>\n",
       "      <th>killStreaks</th>\n",
       "      <th>longestKill</th>\n",
       "      <th>rideDistance</th>\n",
       "      <th>walkDistance</th>\n",
       "      <th>weaponsAcquired</th>\n",
       "      <th>totalDistance</th>\n",
       "      <th>kill_rate</th>\n",
       "      <th>distance_over_weapons</th>\n",
       "      <th>distance_over_heals</th>\n",
       "      <th>distance_over_kills</th>\n",
       "      <th>healthitems</th>\n",
       "      <th>skill</th>\n",
       "    </tr>\n",
       "  </thead>\n",
       "  <tbody>\n",
       "    <tr>\n",
       "      <th>0</th>\n",
       "      <td>0</td>\n",
       "      <td>0.00</td>\n",
       "      <td>0</td>\n",
       "      <td>57.6828</td>\n",
       "      <td>0.00</td>\n",
       "      <td>0</td>\n",
       "      <td>91.56</td>\n",
       "      <td>0.00</td>\n",
       "      <td>0.00</td>\n",
       "      <td>0.00</td>\n",
       "      <td>0.0</td>\n",
       "      <td>123.7</td>\n",
       "      <td>1</td>\n",
       "      <td>123.7</td>\n",
       "      <td>0.0</td>\n",
       "      <td>123.700000</td>\n",
       "      <td>0.0</td>\n",
       "      <td>0.000000</td>\n",
       "      <td>0</td>\n",
       "      <td>0.00</td>\n",
       "    </tr>\n",
       "    <tr>\n",
       "      <th>1</th>\n",
       "      <td>1</td>\n",
       "      <td>0.00</td>\n",
       "      <td>0</td>\n",
       "      <td>143.6240</td>\n",
       "      <td>1.04</td>\n",
       "      <td>0</td>\n",
       "      <td>32.24</td>\n",
       "      <td>1.04</td>\n",
       "      <td>1.04</td>\n",
       "      <td>67.56</td>\n",
       "      <td>0.0</td>\n",
       "      <td>156.5</td>\n",
       "      <td>2</td>\n",
       "      <td>156.5</td>\n",
       "      <td>0.5</td>\n",
       "      <td>78.250000</td>\n",
       "      <td>0.0</td>\n",
       "      <td>150.480769</td>\n",
       "      <td>0</td>\n",
       "      <td>1.04</td>\n",
       "    </tr>\n",
       "    <tr>\n",
       "      <th>2</th>\n",
       "      <td>2</td>\n",
       "      <td>1.02</td>\n",
       "      <td>1</td>\n",
       "      <td>186.1500</td>\n",
       "      <td>1.02</td>\n",
       "      <td>2</td>\n",
       "      <td>39.78</td>\n",
       "      <td>0.00</td>\n",
       "      <td>0.00</td>\n",
       "      <td>0.00</td>\n",
       "      <td>1494.0</td>\n",
       "      <td>3141.0</td>\n",
       "      <td>4</td>\n",
       "      <td>4635.0</td>\n",
       "      <td>0.0</td>\n",
       "      <td>1158.750000</td>\n",
       "      <td>2317.5</td>\n",
       "      <td>0.000000</td>\n",
       "      <td>3</td>\n",
       "      <td>0.00</td>\n",
       "    </tr>\n",
       "    <tr>\n",
       "      <th>3</th>\n",
       "      <td>3</td>\n",
       "      <td>2.06</td>\n",
       "      <td>3</td>\n",
       "      <td>293.2410</td>\n",
       "      <td>1.03</td>\n",
       "      <td>1</td>\n",
       "      <td>18.54</td>\n",
       "      <td>2.06</td>\n",
       "      <td>2.06</td>\n",
       "      <td>57.12</td>\n",
       "      <td>634.3</td>\n",
       "      <td>1906.0</td>\n",
       "      <td>3</td>\n",
       "      <td>2540.3</td>\n",
       "      <td>0.4</td>\n",
       "      <td>846.766667</td>\n",
       "      <td>2540.3</td>\n",
       "      <td>1233.155340</td>\n",
       "      <td>4</td>\n",
       "      <td>3.09</td>\n",
       "    </tr>\n",
       "    <tr>\n",
       "      <th>4</th>\n",
       "      <td>4</td>\n",
       "      <td>0.00</td>\n",
       "      <td>0</td>\n",
       "      <td>19.1152</td>\n",
       "      <td>0.00</td>\n",
       "      <td>0</td>\n",
       "      <td>75.92</td>\n",
       "      <td>0.00</td>\n",
       "      <td>0.00</td>\n",
       "      <td>0.00</td>\n",
       "      <td>0.0</td>\n",
       "      <td>234.3</td>\n",
       "      <td>2</td>\n",
       "      <td>234.3</td>\n",
       "      <td>0.0</td>\n",
       "      <td>117.150000</td>\n",
       "      <td>0.0</td>\n",
       "      <td>0.000000</td>\n",
       "      <td>0</td>\n",
       "      <td>0.00</td>\n",
       "    </tr>\n",
       "  </tbody>\n",
       "</table>\n",
       "</div>"
      ],
      "text/plain": [
       "   Unnamed: 0  assists  boosts  damageDealt  DBNOs  heals  killPlace  kills  \\\n",
       "0           0     0.00       0      57.6828   0.00      0      91.56   0.00   \n",
       "1           1     0.00       0     143.6240   1.04      0      32.24   1.04   \n",
       "2           2     1.02       1     186.1500   1.02      2      39.78   0.00   \n",
       "3           3     2.06       3     293.2410   1.03      1      18.54   2.06   \n",
       "4           4     0.00       0      19.1152   0.00      0      75.92   0.00   \n",
       "\n",
       "   killStreaks  longestKill  rideDistance  walkDistance  weaponsAcquired  \\\n",
       "0         0.00         0.00           0.0         123.7                1   \n",
       "1         1.04        67.56           0.0         156.5                2   \n",
       "2         0.00         0.00        1494.0        3141.0                4   \n",
       "3         2.06        57.12         634.3        1906.0                3   \n",
       "4         0.00         0.00           0.0         234.3                2   \n",
       "\n",
       "   totalDistance  kill_rate  distance_over_weapons  distance_over_heals  \\\n",
       "0          123.7        0.0             123.700000                  0.0   \n",
       "1          156.5        0.5              78.250000                  0.0   \n",
       "2         4635.0        0.0            1158.750000               2317.5   \n",
       "3         2540.3        0.4             846.766667               2540.3   \n",
       "4          234.3        0.0             117.150000                  0.0   \n",
       "\n",
       "   distance_over_kills  healthitems  skill  \n",
       "0             0.000000            0   0.00  \n",
       "1           150.480769            0   1.04  \n",
       "2             0.000000            3   0.00  \n",
       "3          1233.155340            4   3.09  \n",
       "4             0.000000            0   0.00  "
      ]
     },
     "execution_count": 16,
     "metadata": {},
     "output_type": "execute_result"
    }
   ],
   "source": [
    "# 挑选出用于聚类的特征\n",
    "data_cluster = data.drop(columns=['winPlacePerc'])\n",
    "column = data_cluster.columns\n",
    "data_cluster.head()"
   ]
  },
  {
   "cell_type": "code",
   "execution_count": 17,
   "metadata": {},
   "outputs": [
    {
     "data": {
      "text/plain": [
       "array([[-1.73201617, -0.41644868, -0.6804515 , ..., -0.48466475,\n",
       "        -0.67495354, -0.71670715],\n",
       "       [-1.73194688, -0.41644868, -0.6804515 , ..., -0.36436361,\n",
       "        -0.67495354,  0.11961629],\n",
       "       [-1.7318776 ,  1.30989958, -0.11823428, ..., -0.48466475,\n",
       "         0.08160774, -0.71670715],\n",
       "       ...,\n",
       "       [ 1.7318776 ,  4.86414599, -0.6804515 , ...,  0.22453544,\n",
       "        -0.67495354,  0.11961629],\n",
       "       [ 1.73194688, -0.41644868, -0.6804515 , ...,  0.70092766,\n",
       "         2.3512916 ,  0.13569943],\n",
       "       [ 1.73201617, -0.41644868, -0.6804515 , ..., -0.48466475,\n",
       "        -0.67495354, -0.71670715]])"
      ]
     },
     "execution_count": 17,
     "metadata": {},
     "output_type": "execute_result"
    }
   ],
   "source": [
    "# Z-score标准化\n",
    "from sklearn.preprocessing import StandardScaler\n",
    "ss = StandardScaler()\n",
    "data_input = ss.fit_transform(data_cluster)\n",
    "data_input"
   ]
  },
  {
   "cell_type": "code",
   "execution_count": 18,
   "metadata": {},
   "outputs": [
    {
     "name": "stdout",
     "output_type": "stream",
     "text": [
      "0.7898496257423295\n",
      "2\n"
     ]
    }
   ],
   "source": [
    "#DBSCAN聚类\n",
    "from sklearn.cluster import DBSCAN\n",
    "from sklearn.metrics import silhouette_score\n",
    "DB = DBSCAN(eps=9,min_samples=10)#eps为密度半径\n",
    "data_cluster['dbscan'] = DB.fit_predict(data_input)\n",
    "print(silhouette_score(data_input,data_cluster['dbscan']))\n",
    "print(len(np.unique(data_cluster['dbscan'])))"
   ]
  },
  {
   "cell_type": "code",
   "execution_count": 21,
   "metadata": {},
   "outputs": [
    {
     "data": {
      "text/html": [
       "<div>\n",
       "<style scoped>\n",
       "    .dataframe tbody tr th:only-of-type {\n",
       "        vertical-align: middle;\n",
       "    }\n",
       "\n",
       "    .dataframe tbody tr th {\n",
       "        vertical-align: top;\n",
       "    }\n",
       "\n",
       "    .dataframe thead th {\n",
       "        text-align: right;\n",
       "    }\n",
       "</style>\n",
       "<table border=\"1\" class=\"dataframe\">\n",
       "  <thead>\n",
       "    <tr style=\"text-align: right;\">\n",
       "      <th></th>\n",
       "      <th>eps</th>\n",
       "      <th>min_samples</th>\n",
       "      <th>score</th>\n",
       "      <th>clu_num</th>\n",
       "    </tr>\n",
       "  </thead>\n",
       "  <tbody>\n",
       "    <tr>\n",
       "      <th>0</th>\n",
       "      <td>3</td>\n",
       "      <td>6</td>\n",
       "      <td>0.417486</td>\n",
       "      <td>4</td>\n",
       "    </tr>\n",
       "    <tr>\n",
       "      <th>1</th>\n",
       "      <td>3</td>\n",
       "      <td>8</td>\n",
       "      <td>0.512009</td>\n",
       "      <td>2</td>\n",
       "    </tr>\n",
       "    <tr>\n",
       "      <th>2</th>\n",
       "      <td>4</td>\n",
       "      <td>6</td>\n",
       "      <td>0.607476</td>\n",
       "      <td>2</td>\n",
       "    </tr>\n",
       "    <tr>\n",
       "      <th>3</th>\n",
       "      <td>4</td>\n",
       "      <td>8</td>\n",
       "      <td>0.606165</td>\n",
       "      <td>2</td>\n",
       "    </tr>\n",
       "    <tr>\n",
       "      <th>4</th>\n",
       "      <td>5</td>\n",
       "      <td>6</td>\n",
       "      <td>0.675502</td>\n",
       "      <td>2</td>\n",
       "    </tr>\n",
       "    <tr>\n",
       "      <th>5</th>\n",
       "      <td>5</td>\n",
       "      <td>8</td>\n",
       "      <td>0.673391</td>\n",
       "      <td>2</td>\n",
       "    </tr>\n",
       "  </tbody>\n",
       "</table>\n",
       "</div>"
      ],
      "text/plain": [
       "   eps  min_samples     score  clu_num\n",
       "0    3            6  0.417486        4\n",
       "1    3            8  0.512009        2\n",
       "2    4            6  0.607476        2\n",
       "3    4            8  0.606165        2\n",
       "4    5            6  0.675502        2\n",
       "5    5            8  0.673391        2"
      ]
     },
     "execution_count": 21,
     "metadata": {},
     "output_type": "execute_result"
    }
   ],
   "source": [
    "from sklearn.cluster import DBSCAN\n",
    "from sklearn.metrics import silhouette_score\n",
    "res = []\n",
    "# 迭代不同的eps值\n",
    "for eps in np.arange(3,6,1):\n",
    "    # 迭代不同的min_samples值\n",
    "    for min_samples in np.arange(6,10,2):\n",
    "        dbscan = DBSCAN(eps = eps, min_samples = min_samples)\n",
    "        # 模型拟合\n",
    "        db_pre = dbscan.fit_predict(data_input)\n",
    "        #统计轮廓系数\n",
    "        k = silhouette_score(data_input,db_pre)\n",
    "        clu_num = len(np.unique(db_pre))\n",
    "        res.append({'eps':eps,'min_samples':min_samples,'score':k, 'clu_num':clu_num})\n",
    "# 将迭代后的结果存储到数据框中        \n",
    "df = pd.DataFrame(res)\n",
    "\n",
    "df"
   ]
  },
  {
   "cell_type": "code",
   "execution_count": 22,
   "metadata": {},
   "outputs": [
    {
     "name": "stdout",
     "output_type": "stream",
     "text": [
      "0.4174861843957456\n",
      "4\n"
     ]
    }
   ],
   "source": [
    "#DBSCAN聚类\n",
    "# 选择上面调参得出的最佳表现的参数组合进行聚类\n",
    "from sklearn.cluster import DBSCAN\n",
    "from sklearn.metrics import silhouette_score\n",
    "DB = DBSCAN(eps=3,min_samples=6)#eps为密度半径\n",
    "data['dbscan'] = DB.fit_predict(data_input)\n",
    "print(silhouette_score(data_input,data['dbscan']))\n",
    "print(len(np.unique(data['dbscan'])))"
   ]
  },
  {
   "cell_type": "code",
   "execution_count": 23,
   "metadata": {},
   "outputs": [
    {
     "data": {
      "text/plain": [
       " 0    48797\n",
       "-1     1196\n",
       " 1        4\n",
       " 2        3\n",
       "Name: dbscan, dtype: int64"
      ]
     },
     "execution_count": 23,
     "metadata": {},
     "output_type": "execute_result"
    }
   ],
   "source": [
    "data['dbscan'].value_counts()"
   ]
  },
  {
   "cell_type": "code",
   "execution_count": 24,
   "metadata": {},
   "outputs": [],
   "source": [
    "data.to_csv('select_cluster_duo_V2.csv',index=False)"
   ]
  },
  {
   "cell_type": "code",
   "execution_count": null,
   "metadata": {},
   "outputs": [],
   "source": []
  }
 ],
 "metadata": {
  "kernelspec": {
   "display_name": "Python 3",
   "language": "python",
   "name": "python3"
  },
  "language_info": {
   "codemirror_mode": {
    "name": "ipython",
    "version": 3
   },
   "file_extension": ".py",
   "mimetype": "text/x-python",
   "name": "python",
   "nbconvert_exporter": "python",
   "pygments_lexer": "ipython3",
   "version": "3.7.6"
  }
 },
 "nbformat": 4,
 "nbformat_minor": 4
}

{
 "cells": [
  {
   "cell_type": "markdown",
   "metadata": {},
   "source": [
    "# PUBG绝地求生聚类分析[四排]\n",
    "\n",
    "<p>运用到的方法：Kmeans, AGG, DBSCAN"
   ]
  },
  {
   "cell_type": "markdown",
   "metadata": {},
   "source": [
    "## 1、全特征聚类"
   ]
  },
  {
   "cell_type": "code",
   "execution_count": 1,
   "metadata": {},
   "outputs": [
    {
     "data": {
      "text/plain": [
       "(50000, 32)"
      ]
     },
     "execution_count": 1,
     "metadata": {},
     "output_type": "execute_result"
    }
   ],
   "source": [
    "import pandas as pd\n",
    "import numpy as np\n",
    "#读取数据集sampleSquad.csv\n",
    "data = pd.read_csv('sampleSquad_V2.csv')\n",
    "data.shape"
   ]
  },
  {
   "cell_type": "code",
   "execution_count": 2,
   "metadata": {},
   "outputs": [
    {
     "data": {
      "text/html": [
       "<div>\n",
       "<style scoped>\n",
       "    .dataframe tbody tr th:only-of-type {\n",
       "        vertical-align: middle;\n",
       "    }\n",
       "\n",
       "    .dataframe tbody tr th {\n",
       "        vertical-align: top;\n",
       "    }\n",
       "\n",
       "    .dataframe thead th {\n",
       "        text-align: right;\n",
       "    }\n",
       "</style>\n",
       "<table border=\"1\" class=\"dataframe\">\n",
       "  <thead>\n",
       "    <tr style=\"text-align: right;\">\n",
       "      <th></th>\n",
       "      <th>assists</th>\n",
       "      <th>boosts</th>\n",
       "      <th>damageDealt</th>\n",
       "      <th>DBNOs</th>\n",
       "      <th>headshotKills</th>\n",
       "      <th>heals</th>\n",
       "      <th>killPlace</th>\n",
       "      <th>kills</th>\n",
       "      <th>killStreaks</th>\n",
       "      <th>longestKill</th>\n",
       "      <th>...</th>\n",
       "      <th>kill_rate</th>\n",
       "      <th>playersInGroup</th>\n",
       "      <th>weaponsPerDistance</th>\n",
       "      <th>healsPerDistance</th>\n",
       "      <th>killsPerDistance</th>\n",
       "      <th>distance_over_weapons</th>\n",
       "      <th>distance_over_heals</th>\n",
       "      <th>distance_over_kills</th>\n",
       "      <th>healthitems</th>\n",
       "      <th>skill</th>\n",
       "    </tr>\n",
       "  </thead>\n",
       "  <tbody>\n",
       "    <tr>\n",
       "      <th>0</th>\n",
       "      <td>0.00</td>\n",
       "      <td>2</td>\n",
       "      <td>43.845</td>\n",
       "      <td>1.11</td>\n",
       "      <td>0.00</td>\n",
       "      <td>4</td>\n",
       "      <td>24.42</td>\n",
       "      <td>1.11</td>\n",
       "      <td>1.11</td>\n",
       "      <td>94.530</td>\n",
       "      <td>...</td>\n",
       "      <td>0.500</td>\n",
       "      <td>4</td>\n",
       "      <td>0.001372</td>\n",
       "      <td>0.001383</td>\n",
       "      <td>0.000384</td>\n",
       "      <td>729.082500</td>\n",
       "      <td>729.0825</td>\n",
       "      <td>2627.324324</td>\n",
       "      <td>6</td>\n",
       "      <td>1.11</td>\n",
       "    </tr>\n",
       "    <tr>\n",
       "      <th>1</th>\n",
       "      <td>0.00</td>\n",
       "      <td>0</td>\n",
       "      <td>0.000</td>\n",
       "      <td>0.00</td>\n",
       "      <td>0.00</td>\n",
       "      <td>0</td>\n",
       "      <td>83.20</td>\n",
       "      <td>0.00</td>\n",
       "      <td>0.00</td>\n",
       "      <td>0.000</td>\n",
       "      <td>...</td>\n",
       "      <td>0.000</td>\n",
       "      <td>3</td>\n",
       "      <td>0.020629</td>\n",
       "      <td>0.000000</td>\n",
       "      <td>0.000000</td>\n",
       "      <td>48.475000</td>\n",
       "      <td>0.0000</td>\n",
       "      <td>0.000000</td>\n",
       "      <td>0</td>\n",
       "      <td>0.00</td>\n",
       "    </tr>\n",
       "    <tr>\n",
       "      <th>2</th>\n",
       "      <td>0.00</td>\n",
       "      <td>4</td>\n",
       "      <td>230.672</td>\n",
       "      <td>2.08</td>\n",
       "      <td>2.08</td>\n",
       "      <td>0</td>\n",
       "      <td>15.60</td>\n",
       "      <td>2.08</td>\n",
       "      <td>1.04</td>\n",
       "      <td>55.760</td>\n",
       "      <td>...</td>\n",
       "      <td>0.500</td>\n",
       "      <td>3</td>\n",
       "      <td>0.001660</td>\n",
       "      <td>0.000000</td>\n",
       "      <td>0.000863</td>\n",
       "      <td>602.250000</td>\n",
       "      <td>0.0000</td>\n",
       "      <td>1158.173077</td>\n",
       "      <td>4</td>\n",
       "      <td>3.12</td>\n",
       "    </tr>\n",
       "    <tr>\n",
       "      <th>3</th>\n",
       "      <td>1.07</td>\n",
       "      <td>1</td>\n",
       "      <td>486.101</td>\n",
       "      <td>4.28</td>\n",
       "      <td>0.00</td>\n",
       "      <td>5</td>\n",
       "      <td>10.70</td>\n",
       "      <td>3.21</td>\n",
       "      <td>2.14</td>\n",
       "      <td>7.759</td>\n",
       "      <td>...</td>\n",
       "      <td>0.375</td>\n",
       "      <td>3</td>\n",
       "      <td>0.004152</td>\n",
       "      <td>0.002595</td>\n",
       "      <td>0.001666</td>\n",
       "      <td>240.875000</td>\n",
       "      <td>385.4000</td>\n",
       "      <td>600.311526</td>\n",
       "      <td>6</td>\n",
       "      <td>2.14</td>\n",
       "    </tr>\n",
       "    <tr>\n",
       "      <th>4</th>\n",
       "      <td>0.00</td>\n",
       "      <td>0</td>\n",
       "      <td>0.000</td>\n",
       "      <td>0.00</td>\n",
       "      <td>0.00</td>\n",
       "      <td>0</td>\n",
       "      <td>83.93</td>\n",
       "      <td>0.00</td>\n",
       "      <td>0.00</td>\n",
       "      <td>0.000</td>\n",
       "      <td>...</td>\n",
       "      <td>0.000</td>\n",
       "      <td>1</td>\n",
       "      <td>0.019023</td>\n",
       "      <td>0.000000</td>\n",
       "      <td>0.000000</td>\n",
       "      <td>52.566667</td>\n",
       "      <td>0.0000</td>\n",
       "      <td>0.000000</td>\n",
       "      <td>0</td>\n",
       "      <td>0.00</td>\n",
       "    </tr>\n",
       "  </tbody>\n",
       "</table>\n",
       "<p>5 rows × 30 columns</p>\n",
       "</div>"
      ],
      "text/plain": [
       "   assists  boosts  damageDealt  DBNOs  headshotKills  heals  killPlace  \\\n",
       "0     0.00       2       43.845   1.11           0.00      4      24.42   \n",
       "1     0.00       0        0.000   0.00           0.00      0      83.20   \n",
       "2     0.00       4      230.672   2.08           2.08      0      15.60   \n",
       "3     1.07       1      486.101   4.28           0.00      5      10.70   \n",
       "4     0.00       0        0.000   0.00           0.00      0      83.93   \n",
       "\n",
       "   kills  killStreaks  longestKill  ...  kill_rate  playersInGroup  \\\n",
       "0   1.11         1.11       94.530  ...      0.500               4   \n",
       "1   0.00         0.00        0.000  ...      0.000               3   \n",
       "2   2.08         1.04       55.760  ...      0.500               3   \n",
       "3   3.21         2.14        7.759  ...      0.375               3   \n",
       "4   0.00         0.00        0.000  ...      0.000               1   \n",
       "\n",
       "   weaponsPerDistance  healsPerDistance  killsPerDistance  \\\n",
       "0            0.001372          0.001383          0.000384   \n",
       "1            0.020629          0.000000          0.000000   \n",
       "2            0.001660          0.000000          0.000863   \n",
       "3            0.004152          0.002595          0.001666   \n",
       "4            0.019023          0.000000          0.000000   \n",
       "\n",
       "   distance_over_weapons  distance_over_heals  distance_over_kills  \\\n",
       "0             729.082500             729.0825          2627.324324   \n",
       "1              48.475000               0.0000             0.000000   \n",
       "2             602.250000               0.0000          1158.173077   \n",
       "3             240.875000             385.4000           600.311526   \n",
       "4              52.566667               0.0000             0.000000   \n",
       "\n",
       "   healthitems  skill  \n",
       "0            6   1.11  \n",
       "1            0   0.00  \n",
       "2            4   3.12  \n",
       "3            6   2.14  \n",
       "4            0   0.00  \n",
       "\n",
       "[5 rows x 30 columns]"
      ]
     },
     "execution_count": 2,
     "metadata": {},
     "output_type": "execute_result"
    }
   ],
   "source": [
    "#挑选出用于聚类的特征\n",
    "data_cluster = data.drop(columns=['winPlacePerc','matchDuration'])\n",
    "column = data_cluster.columns\n",
    "data_cluster.head()"
   ]
  },
  {
   "cell_type": "code",
   "execution_count": 3,
   "metadata": {},
   "outputs": [
    {
     "data": {
      "text/plain": [
       "array([[-0.48876395,  0.30525328, -0.61830816, ...,  1.29031066,\n",
       "         0.62732224,  0.12249579],\n",
       "       [-0.48876395, -0.78528754, -0.84598281, ..., -0.53277518,\n",
       "        -0.76746073, -0.73092018],\n",
       "       [-0.48876395,  1.3957941 ,  0.35183148, ...,  0.27087472,\n",
       "         0.16239458,  1.66787066],\n",
       "       ...,\n",
       "       [-0.48876395, -0.78528754,  0.01735823, ...,  1.45570871,\n",
       "        -0.5349969 ,  0.83751998],\n",
       "       [-0.48876395, -0.24001713,  1.0821507 , ..., -0.2232174 ,\n",
       "        -0.5349969 ,  1.64480536],\n",
       "       [-0.48876395, -0.78528754, -0.62046314, ..., -0.53277518,\n",
       "        -0.76746073, -0.73092018]])"
      ]
     },
     "execution_count": 3,
     "metadata": {},
     "output_type": "execute_result"
    }
   ],
   "source": [
    "# Z-score标准化\n",
    "from sklearn.preprocessing import StandardScaler\n",
    "ss = StandardScaler()\n",
    "data_input = ss.fit_transform(data_cluster)\n",
    "data_input"
   ]
  },
  {
   "cell_type": "markdown",
   "metadata": {},
   "source": [
    "### K-means聚类"
   ]
  },
  {
   "cell_type": "code",
   "execution_count": 5,
   "metadata": {},
   "outputs": [
    {
     "name": "stdout",
     "output_type": "stream",
     "text": [
      "0.18960597866123244\n",
      "6\n"
     ]
    }
   ],
   "source": [
    "# k-means聚类\n",
    "from sklearn.cluster import KMeans\n",
    "from sklearn.metrics import silhouette_score\n",
    "#####这里k-means的聚类数需要看上面画出的图自行判断\n",
    "kmeans = KMeans(n_clusters=6)#n_clusters即为K值\n",
    "data_cluster['kmeans'] = kmeans.fit_predict(data_input)\n",
    "print(silhouette_score(data_input,data_cluster['kmeans']))\n",
    "print(len(np.unique(data_cluster['kmeans'])))"
   ]
  },
  {
   "cell_type": "code",
   "execution_count": 6,
   "metadata": {},
   "outputs": [
    {
     "data": {
      "image/png": "[encoded data removed]",
      "text/plain": [
       "<Figure size 432x288 with 1 Axes>"
      ]
     },
     "metadata": {
      "needs_background": "light"
     },
     "output_type": "display_data"
    }
   ],
   "source": [
    "# K-means调参\n",
    "import matplotlib.pyplot as plt\n",
    "K=range(2,10)\n",
    "score=[]\n",
    "for k in K:\n",
    "    kmeans=KMeans(n_clusters=k)\n",
    "    kmeans.fit(data_input)\n",
    "    score.append(silhouette_score(data_input,kmeans.labels_,metric='euclidean'))\n",
    "    \n",
    "plt.plot(K,score,'r*-')\n",
    "plt.xlabel('k')\n",
    "plt.ylabel(u'silhouette_score')\n",
    "plt.title(u'Best K by silhouette score')\n",
    "plt.show()"
   ]
  },
  {
   "cell_type": "markdown",
   "metadata": {},
   "source": [
    "### AGG层次聚类"
   ]
  },
  {
   "cell_type": "code",
   "execution_count": 7,
   "metadata": {},
   "outputs": [
    {
     "name": "stdout",
     "output_type": "stream",
     "text": [
      "0.16888166866338628\n",
      "6\n"
     ]
    }
   ],
   "source": [
    "# 层次聚类\n",
    "from sklearn.cluster import AgglomerativeClustering\n",
    "#####这里的distance_threshold需要自己试，试了10、100、500、300\n",
    "AGG = AgglomerativeClustering(distance_threshold=300,n_clusters=None,linkage = 'ward')#distance_threshold为停止合并簇类的距离\n",
    "data_cluster['agg'] = AGG.fit_predict(data_input)\n",
    "print(silhouette_score(data_input,data_cluster['agg']))\n",
    "print(len(np.unique(data_cluster['agg'])))"
   ]
  },
  {
   "cell_type": "code",
   "execution_count": 9,
   "metadata": {},
   "outputs": [
    {
     "name": "stdout",
     "output_type": "stream",
     "text": [
      "      assists    boosts  damageDealt     DBNOs  headshotKills     heals  \\\n",
      "agg                                                                       \n",
      "0    0.749567  2.885449   326.027004  2.080480       0.549505  3.778638   \n",
      "1    0.375729  1.952094    95.556241  0.504513       0.073915  2.890939   \n",
      "2    0.207019  0.555035   180.116557  1.444023       0.395498  1.175126   \n",
      "3    0.113534  0.332449    45.866701  0.179790       0.000000  0.267991   \n",
      "4    1.007608  3.549534   454.272669  3.097055       1.180401  4.780492   \n",
      "5    0.536168  2.439699   222.476117  1.421673       0.222750  2.480064   \n",
      "\n",
      "     killPlace     kills  killStreaks  longestKill  ...  kill_rate  \\\n",
      "agg                                                 ...              \n",
      "0    22.640851  2.741625     1.235820    77.942363  ...   0.409241   \n",
      "1    48.018990  0.319561     0.196354     8.504835  ...   0.074779   \n",
      "2    31.557767  1.524763     1.162571    23.464496  ...   0.473968   \n",
      "3    71.407053  0.000000     0.000000     0.000000  ...   0.000000   \n",
      "4     9.606136  3.929437     1.713859   102.193575  ...   0.497996   \n",
      "5    21.328452  1.747323     1.219831    60.832753  ...   0.520464   \n",
      "\n",
      "     playersInGroup  weaponsPerDistance  healsPerDistance  killsPerDistance  \\\n",
      "agg                                                                           \n",
      "0          3.360681            0.001340          0.001971          0.001310   \n",
      "1          3.293471            0.001796          0.001439          0.000264   \n",
      "2          3.210644            0.011518          0.003129          0.007301   \n",
      "3          3.282328            0.015970          0.000360          0.000000   \n",
      "4          3.356434            0.001869          0.002078          0.001717   \n",
      "5          3.308727            0.001915          0.001151          0.000865   \n",
      "\n",
      "     distance_over_weapons  distance_over_heals  distance_over_kills  \\\n",
      "agg                                                                    \n",
      "0              1098.870632          1852.421742          2028.989855   \n",
      "1               960.598475          1554.280370           271.059294   \n",
      "2               197.605521           180.816729           425.644076   \n",
      "3               240.003702           177.324086             0.000000   \n",
      "4               749.177856          1151.872243          1256.058206   \n",
      "5               857.813717          1643.407058          2830.310660   \n",
      "\n",
      "     healthitems     skill  \n",
      "agg                         \n",
      "0       6.664087  2.026811  \n",
      "1       4.843033  0.270270  \n",
      "2       1.730161  1.558191  \n",
      "3       0.600440  0.000000  \n",
      "4       8.330026  2.894260  \n",
      "5       4.919763  1.442581  \n",
      "\n",
      "[6 rows x 30 columns]\n",
      "0.28963740069435484\n",
      "6\n"
     ]
    }
   ],
   "source": [
    "# 采用层次聚类法得到的聚类中心，作为k-means算法的初始点\n",
    "center_point = data_cluster.groupby('agg').mean()[column]# 计算聚类中心点\n",
    "print(center_point)\n",
    "#####这里k-means的聚类数需要看上面画出的图自行判断\n",
    "kmeans = KMeans(n_clusters=6,init=center_point,n_init=1)#自定义k-means初始聚类中心\n",
    "data_cluster['kmeans_init_by_agg'] = kmeans.fit_predict(data_input)\n",
    "print(silhouette_score(data_input,data_cluster['kmeans_init_by_agg']))\n",
    "print(len(np.unique(data_cluster['kmeans_init_by_agg'])))"
   ]
  },
  {
   "cell_type": "markdown",
   "metadata": {},
   "source": [
    "### DBSCAN聚类"
   ]
  },
  {
   "cell_type": "code",
   "execution_count": 10,
   "metadata": {},
   "outputs": [
    {
     "name": "stdout",
     "output_type": "stream",
     "text": [
      "0.6486972644689906\n",
      "3\n"
     ]
    }
   ],
   "source": [
    "#DBSCAN聚类\n",
    "from sklearn.cluster import DBSCAN\n",
    "from sklearn.metrics import silhouette_score\n",
    "DB = DBSCAN(eps=10,min_samples=20)#eps为密度半径\n",
    "data_cluster['dbscan'] = DB.fit_predict(data_input)\n",
    "print(silhouette_score(data_input,data_cluster['dbscan']))\n",
    "print(len(np.unique(data_cluster['dbscan'])))"
   ]
  },
  {
   "cell_type": "markdown",
   "metadata": {},
   "source": [
    "DBSCAN聚类的效果最好，因此对DBSCAN方法进行深入调参"
   ]
  },
  {
   "cell_type": "code",
   "execution_count": 11,
   "metadata": {},
   "outputs": [
    {
     "data": {
      "text/html": [
       "<div>\n",
       "<style scoped>\n",
       "    .dataframe tbody tr th:only-of-type {\n",
       "        vertical-align: middle;\n",
       "    }\n",
       "\n",
       "    .dataframe tbody tr th {\n",
       "        vertical-align: top;\n",
       "    }\n",
       "\n",
       "    .dataframe thead th {\n",
       "        text-align: right;\n",
       "    }\n",
       "</style>\n",
       "<table border=\"1\" class=\"dataframe\">\n",
       "  <thead>\n",
       "    <tr style=\"text-align: right;\">\n",
       "      <th></th>\n",
       "      <th>eps</th>\n",
       "      <th>min_samples</th>\n",
       "      <th>score</th>\n",
       "      <th>clu_num</th>\n",
       "    </tr>\n",
       "  </thead>\n",
       "  <tbody>\n",
       "    <tr>\n",
       "      <th>0</th>\n",
       "      <td>7</td>\n",
       "      <td>10</td>\n",
       "      <td>0.485073</td>\n",
       "      <td>5</td>\n",
       "    </tr>\n",
       "    <tr>\n",
       "      <th>1</th>\n",
       "      <td>7</td>\n",
       "      <td>15</td>\n",
       "      <td>0.484749</td>\n",
       "      <td>4</td>\n",
       "    </tr>\n",
       "    <tr>\n",
       "      <th>2</th>\n",
       "      <td>8</td>\n",
       "      <td>10</td>\n",
       "      <td>0.488319</td>\n",
       "      <td>5</td>\n",
       "    </tr>\n",
       "    <tr>\n",
       "      <th>3</th>\n",
       "      <td>8</td>\n",
       "      <td>15</td>\n",
       "      <td>0.488402</td>\n",
       "      <td>5</td>\n",
       "    </tr>\n",
       "    <tr>\n",
       "      <th>4</th>\n",
       "      <td>9</td>\n",
       "      <td>10</td>\n",
       "      <td>0.489586</td>\n",
       "      <td>5</td>\n",
       "    </tr>\n",
       "    <tr>\n",
       "      <th>5</th>\n",
       "      <td>9</td>\n",
       "      <td>15</td>\n",
       "      <td>0.489662</td>\n",
       "      <td>5</td>\n",
       "    </tr>\n",
       "    <tr>\n",
       "      <th>6</th>\n",
       "      <td>10</td>\n",
       "      <td>10</td>\n",
       "      <td>0.649429</td>\n",
       "      <td>3</td>\n",
       "    </tr>\n",
       "    <tr>\n",
       "      <th>7</th>\n",
       "      <td>10</td>\n",
       "      <td>15</td>\n",
       "      <td>0.649436</td>\n",
       "      <td>3</td>\n",
       "    </tr>\n",
       "  </tbody>\n",
       "</table>\n",
       "</div>"
      ],
      "text/plain": [
       "   eps  min_samples     score  clu_num\n",
       "0    7           10  0.485073        5\n",
       "1    7           15  0.484749        4\n",
       "2    8           10  0.488319        5\n",
       "3    8           15  0.488402        5\n",
       "4    9           10  0.489586        5\n",
       "5    9           15  0.489662        5\n",
       "6   10           10  0.649429        3\n",
       "7   10           15  0.649436        3"
      ]
     },
     "execution_count": 11,
     "metadata": {},
     "output_type": "execute_result"
    }
   ],
   "source": [
    "from sklearn.cluster import DBSCAN\n",
    "from sklearn.metrics import silhouette_score\n",
    "res = []\n",
    "# 迭代不同的eps值\n",
    "for eps in np.arange(7,11,1):\n",
    "    # 迭代不同的min_samples值\n",
    "    for min_samples in np.arange(10,20,5):\n",
    "        dbscan = DBSCAN(eps = eps, min_samples = min_samples)\n",
    "        # 模型拟合\n",
    "        db_pre = dbscan.fit_predict(data_input)\n",
    "        #统计轮廓系数\n",
    "        k = silhouette_score(data_input,db_pre)\n",
    "        clu_num = len(np.unique(db_pre))\n",
    "        res.append({'eps':eps,'min_samples':min_samples,'score':k, 'clu_num':clu_num})\n",
    "# 将迭代后的结果存储到数据框中        \n",
    "df = pd.DataFrame(res)\n",
    "\n",
    "df"
   ]
  },
  {
   "cell_type": "markdown",
   "metadata": {},
   "source": [
    "在4个簇类中（表格中的簇类结果包含-1），选择轮廓系数最好的参数组合为：eps=9,min_samples=15"
   ]
  },
  {
   "cell_type": "code",
   "execution_count": 12,
   "metadata": {},
   "outputs": [
    {
     "name": "stdout",
     "output_type": "stream",
     "text": [
      "0.48966204015228837\n",
      "5\n"
     ]
    }
   ],
   "source": [
    "#DBSCAN聚类\n",
    "# 选择上面调参得出的最佳表现的参数组合进行聚类\n",
    "from sklearn.cluster import DBSCAN\n",
    "from sklearn.metrics import silhouette_score\n",
    "DB = DBSCAN(eps=9,min_samples=15)#eps为密度半径\n",
    "data['dbscan'] = DB.fit_predict(data_input)\n",
    "print(silhouette_score(data_input,data['dbscan']))\n",
    "print(len(np.unique(data['dbscan'])))"
   ]
  },
  {
   "cell_type": "code",
   "execution_count": 13,
   "metadata": {},
   "outputs": [
    {
     "data": {
      "text/plain": [
       " 0    49335\n",
       " 1      489\n",
       " 2      116\n",
       "-1       42\n",
       " 3       18\n",
       "Name: dbscan, dtype: int64"
      ]
     },
     "execution_count": 13,
     "metadata": {},
     "output_type": "execute_result"
    }
   ],
   "source": [
    "data['dbscan'].value_counts()"
   ]
  },
  {
   "cell_type": "code",
   "execution_count": 14,
   "metadata": {},
   "outputs": [
    {
     "name": "stdout",
     "output_type": "stream",
     "text": [
      "<class 'pandas.core.frame.DataFrame'>\n",
      "RangeIndex: 50000 entries, 0 to 49999\n",
      "Data columns (total 33 columns):\n",
      " #   Column                 Non-Null Count  Dtype  \n",
      "---  ------                 --------------  -----  \n",
      " 0   assists                50000 non-null  float64\n",
      " 1   boosts                 50000 non-null  int64  \n",
      " 2   damageDealt            50000 non-null  float64\n",
      " 3   DBNOs                  50000 non-null  float64\n",
      " 4   headshotKills          50000 non-null  float64\n",
      " 5   heals                  50000 non-null  int64  \n",
      " 6   killPlace              50000 non-null  float64\n",
      " 7   kills                  50000 non-null  float64\n",
      " 8   killStreaks            50000 non-null  float64\n",
      " 9   longestKill            50000 non-null  float64\n",
      " 10  matchDuration          50000 non-null  float64\n",
      " 11  revives                50000 non-null  int64  \n",
      " 12  rideDistance           50000 non-null  float64\n",
      " 13  roadKills              50000 non-null  float64\n",
      " 14  swimDistance           50000 non-null  float64\n",
      " 15  teamKills              50000 non-null  int64  \n",
      " 16  vehicleDestroys        50000 non-null  int64  \n",
      " 17  walkDistance           50000 non-null  float64\n",
      " 18  weaponsAcquired        50000 non-null  int64  \n",
      " 19  winPlacePerc           50000 non-null  float64\n",
      " 20  totalDistance          50000 non-null  float64\n",
      " 21  headshot_rate          50000 non-null  float64\n",
      " 22  kill_rate              50000 non-null  float64\n",
      " 23  playersInGroup         50000 non-null  int64  \n",
      " 24  weaponsPerDistance     50000 non-null  float64\n",
      " 25  healsPerDistance       50000 non-null  float64\n",
      " 26  killsPerDistance       50000 non-null  float64\n",
      " 27  distance_over_weapons  50000 non-null  float64\n",
      " 28  distance_over_heals    50000 non-null  float64\n",
      " 29  distance_over_kills    50000 non-null  float64\n",
      " 30  healthitems            50000 non-null  int64  \n",
      " 31  skill                  50000 non-null  float64\n",
      " 32  dbscan                 50000 non-null  int64  \n",
      "dtypes: float64(24), int64(9)\n",
      "memory usage: 12.6 MB\n"
     ]
    }
   ],
   "source": [
    "data.info()"
   ]
  },
  {
   "cell_type": "code",
   "execution_count": 15,
   "metadata": {},
   "outputs": [],
   "source": [
    "#导出数据集进行预测\n",
    "data.to_csv('data_cluster_squad_V2.csv',index=False)"
   ]
  },
  {
   "cell_type": "markdown",
   "metadata": {},
   "source": [
    "## 2、特征选择后聚类"
   ]
  },
  {
   "cell_type": "code",
   "execution_count": 19,
   "metadata": {},
   "outputs": [
    {
     "data": {
      "text/plain": [
       "(50000, 25)"
      ]
     },
     "execution_count": 19,
     "metadata": {},
     "output_type": "execute_result"
    }
   ],
   "source": [
    "import pandas as pd\n",
    "import numpy as np\n",
    "#读取数据集sampleSquad.csv\n",
    "data = pd.read_csv('selectSquad_V2.csv')\n",
    "data.shape"
   ]
  },
  {
   "cell_type": "code",
   "execution_count": 20,
   "metadata": {},
   "outputs": [
    {
     "name": "stdout",
     "output_type": "stream",
     "text": [
      "<class 'pandas.core.frame.DataFrame'>\n",
      "RangeIndex: 50000 entries, 0 to 49999\n",
      "Data columns (total 25 columns):\n",
      " #   Column                 Non-Null Count  Dtype  \n",
      "---  ------                 --------------  -----  \n",
      " 0   assists                50000 non-null  float64\n",
      " 1   boosts                 50000 non-null  int64  \n",
      " 2   damageDealt            50000 non-null  float64\n",
      " 3   DBNOs                  50000 non-null  float64\n",
      " 4   headshotKills          50000 non-null  float64\n",
      " 5   heals                  50000 non-null  int64  \n",
      " 6   killPlace              50000 non-null  float64\n",
      " 7   kills                  50000 non-null  float64\n",
      " 8   killStreaks            50000 non-null  float64\n",
      " 9   longestKill            50000 non-null  float64\n",
      " 10  revives                50000 non-null  int64  \n",
      " 11  rideDistance           50000 non-null  float64\n",
      " 12  walkDistance           50000 non-null  float64\n",
      " 13  weaponsAcquired        50000 non-null  int64  \n",
      " 14  totalDistance          50000 non-null  float64\n",
      " 15  headshot_rate          50000 non-null  float64\n",
      " 16  kill_rate              50000 non-null  float64\n",
      " 17  playersInGroup         50000 non-null  int64  \n",
      " 18  killsPerDistance       50000 non-null  float64\n",
      " 19  distance_over_weapons  50000 non-null  float64\n",
      " 20  distance_over_heals    50000 non-null  float64\n",
      " 21  distance_over_kills    50000 non-null  float64\n",
      " 22  healthitems            50000 non-null  int64  \n",
      " 23  skill                  50000 non-null  float64\n",
      " 24  winPlacePerc           50000 non-null  float64\n",
      "dtypes: float64(19), int64(6)\n",
      "memory usage: 9.5 MB\n"
     ]
    }
   ],
   "source": [
    "data.info()"
   ]
  },
  {
   "cell_type": "code",
   "execution_count": 21,
   "metadata": {},
   "outputs": [
    {
     "data": {
      "text/html": [
       "<div>\n",
       "<style scoped>\n",
       "    .dataframe tbody tr th:only-of-type {\n",
       "        vertical-align: middle;\n",
       "    }\n",
       "\n",
       "    .dataframe tbody tr th {\n",
       "        vertical-align: top;\n",
       "    }\n",
       "\n",
       "    .dataframe thead th {\n",
       "        text-align: right;\n",
       "    }\n",
       "</style>\n",
       "<table border=\"1\" class=\"dataframe\">\n",
       "  <thead>\n",
       "    <tr style=\"text-align: right;\">\n",
       "      <th></th>\n",
       "      <th>assists</th>\n",
       "      <th>boosts</th>\n",
       "      <th>damageDealt</th>\n",
       "      <th>DBNOs</th>\n",
       "      <th>headshotKills</th>\n",
       "      <th>heals</th>\n",
       "      <th>killPlace</th>\n",
       "      <th>kills</th>\n",
       "      <th>killStreaks</th>\n",
       "      <th>longestKill</th>\n",
       "      <th>...</th>\n",
       "      <th>totalDistance</th>\n",
       "      <th>headshot_rate</th>\n",
       "      <th>kill_rate</th>\n",
       "      <th>playersInGroup</th>\n",
       "      <th>killsPerDistance</th>\n",
       "      <th>distance_over_weapons</th>\n",
       "      <th>distance_over_heals</th>\n",
       "      <th>distance_over_kills</th>\n",
       "      <th>healthitems</th>\n",
       "      <th>skill</th>\n",
       "    </tr>\n",
       "  </thead>\n",
       "  <tbody>\n",
       "    <tr>\n",
       "      <th>0</th>\n",
       "      <td>0.00</td>\n",
       "      <td>2</td>\n",
       "      <td>43.845</td>\n",
       "      <td>1.11</td>\n",
       "      <td>0.00</td>\n",
       "      <td>4</td>\n",
       "      <td>24.42</td>\n",
       "      <td>1.11</td>\n",
       "      <td>1.11</td>\n",
       "      <td>94.530</td>\n",
       "      <td>...</td>\n",
       "      <td>2916.33</td>\n",
       "      <td>0.0</td>\n",
       "      <td>0.500</td>\n",
       "      <td>4</td>\n",
       "      <td>0.000384</td>\n",
       "      <td>729.082500</td>\n",
       "      <td>729.0825</td>\n",
       "      <td>2627.324324</td>\n",
       "      <td>6</td>\n",
       "      <td>1.11</td>\n",
       "    </tr>\n",
       "    <tr>\n",
       "      <th>1</th>\n",
       "      <td>0.00</td>\n",
       "      <td>0</td>\n",
       "      <td>0.000</td>\n",
       "      <td>0.00</td>\n",
       "      <td>0.00</td>\n",
       "      <td>0</td>\n",
       "      <td>83.20</td>\n",
       "      <td>0.00</td>\n",
       "      <td>0.00</td>\n",
       "      <td>0.000</td>\n",
       "      <td>...</td>\n",
       "      <td>193.90</td>\n",
       "      <td>0.0</td>\n",
       "      <td>0.000</td>\n",
       "      <td>3</td>\n",
       "      <td>0.000000</td>\n",
       "      <td>48.475000</td>\n",
       "      <td>0.0000</td>\n",
       "      <td>0.000000</td>\n",
       "      <td>0</td>\n",
       "      <td>0.00</td>\n",
       "    </tr>\n",
       "    <tr>\n",
       "      <th>2</th>\n",
       "      <td>0.00</td>\n",
       "      <td>4</td>\n",
       "      <td>230.672</td>\n",
       "      <td>2.08</td>\n",
       "      <td>2.08</td>\n",
       "      <td>0</td>\n",
       "      <td>15.60</td>\n",
       "      <td>2.08</td>\n",
       "      <td>1.04</td>\n",
       "      <td>55.760</td>\n",
       "      <td>...</td>\n",
       "      <td>2409.00</td>\n",
       "      <td>1.0</td>\n",
       "      <td>0.500</td>\n",
       "      <td>3</td>\n",
       "      <td>0.000863</td>\n",
       "      <td>602.250000</td>\n",
       "      <td>0.0000</td>\n",
       "      <td>1158.173077</td>\n",
       "      <td>4</td>\n",
       "      <td>3.12</td>\n",
       "    </tr>\n",
       "    <tr>\n",
       "      <th>3</th>\n",
       "      <td>1.07</td>\n",
       "      <td>1</td>\n",
       "      <td>486.101</td>\n",
       "      <td>4.28</td>\n",
       "      <td>0.00</td>\n",
       "      <td>5</td>\n",
       "      <td>10.70</td>\n",
       "      <td>3.21</td>\n",
       "      <td>2.14</td>\n",
       "      <td>7.759</td>\n",
       "      <td>...</td>\n",
       "      <td>1927.00</td>\n",
       "      <td>0.0</td>\n",
       "      <td>0.375</td>\n",
       "      <td>3</td>\n",
       "      <td>0.001666</td>\n",
       "      <td>240.875000</td>\n",
       "      <td>385.4000</td>\n",
       "      <td>600.311526</td>\n",
       "      <td>6</td>\n",
       "      <td>2.14</td>\n",
       "    </tr>\n",
       "    <tr>\n",
       "      <th>4</th>\n",
       "      <td>0.00</td>\n",
       "      <td>0</td>\n",
       "      <td>0.000</td>\n",
       "      <td>0.00</td>\n",
       "      <td>0.00</td>\n",
       "      <td>0</td>\n",
       "      <td>83.93</td>\n",
       "      <td>0.00</td>\n",
       "      <td>0.00</td>\n",
       "      <td>0.000</td>\n",
       "      <td>...</td>\n",
       "      <td>157.70</td>\n",
       "      <td>0.0</td>\n",
       "      <td>0.000</td>\n",
       "      <td>1</td>\n",
       "      <td>0.000000</td>\n",
       "      <td>52.566667</td>\n",
       "      <td>0.0000</td>\n",
       "      <td>0.000000</td>\n",
       "      <td>0</td>\n",
       "      <td>0.00</td>\n",
       "    </tr>\n",
       "  </tbody>\n",
       "</table>\n",
       "<p>5 rows × 24 columns</p>\n",
       "</div>"
      ],
      "text/plain": [
       "   assists  boosts  damageDealt  DBNOs  headshotKills  heals  killPlace  \\\n",
       "0     0.00       2       43.845   1.11           0.00      4      24.42   \n",
       "1     0.00       0        0.000   0.00           0.00      0      83.20   \n",
       "2     0.00       4      230.672   2.08           2.08      0      15.60   \n",
       "3     1.07       1      486.101   4.28           0.00      5      10.70   \n",
       "4     0.00       0        0.000   0.00           0.00      0      83.93   \n",
       "\n",
       "   kills  killStreaks  longestKill  ...  totalDistance  headshot_rate  \\\n",
       "0   1.11         1.11       94.530  ...        2916.33            0.0   \n",
       "1   0.00         0.00        0.000  ...         193.90            0.0   \n",
       "2   2.08         1.04       55.760  ...        2409.00            1.0   \n",
       "3   3.21         2.14        7.759  ...        1927.00            0.0   \n",
       "4   0.00         0.00        0.000  ...         157.70            0.0   \n",
       "\n",
       "   kill_rate  playersInGroup  killsPerDistance  distance_over_weapons  \\\n",
       "0      0.500               4          0.000384             729.082500   \n",
       "1      0.000               3          0.000000              48.475000   \n",
       "2      0.500               3          0.000863             602.250000   \n",
       "3      0.375               3          0.001666             240.875000   \n",
       "4      0.000               1          0.000000              52.566667   \n",
       "\n",
       "   distance_over_heals  distance_over_kills  healthitems  skill  \n",
       "0             729.0825          2627.324324            6   1.11  \n",
       "1               0.0000             0.000000            0   0.00  \n",
       "2               0.0000          1158.173077            4   3.12  \n",
       "3             385.4000           600.311526            6   2.14  \n",
       "4               0.0000             0.000000            0   0.00  \n",
       "\n",
       "[5 rows x 24 columns]"
      ]
     },
     "execution_count": 21,
     "metadata": {},
     "output_type": "execute_result"
    }
   ],
   "source": [
    "# 挑选出用于聚类的特征\n",
    "data_cluster = data.drop(columns=['winPlacePerc'])\n",
    "column = data_cluster.columns\n",
    "data_cluster.head()"
   ]
  },
  {
   "cell_type": "code",
   "execution_count": 22,
   "metadata": {},
   "outputs": [
    {
     "data": {
      "text/plain": [
       "array([[-0.48876395,  0.30525328, -0.61830816, ...,  1.29031066,\n",
       "         0.62732224,  0.12249579],\n",
       "       [-0.48876395, -0.78528754, -0.84598281, ..., -0.53277518,\n",
       "        -0.76746073, -0.73092018],\n",
       "       [-0.48876395,  1.3957941 ,  0.35183148, ...,  0.27087472,\n",
       "         0.16239458,  1.66787066],\n",
       "       ...,\n",
       "       [-0.48876395, -0.78528754,  0.01735823, ...,  1.45570871,\n",
       "        -0.5349969 ,  0.83751998],\n",
       "       [-0.48876395, -0.24001713,  1.0821507 , ..., -0.2232174 ,\n",
       "        -0.5349969 ,  1.64480536],\n",
       "       [-0.48876395, -0.78528754, -0.62046314, ..., -0.53277518,\n",
       "        -0.76746073, -0.73092018]])"
      ]
     },
     "execution_count": 22,
     "metadata": {},
     "output_type": "execute_result"
    }
   ],
   "source": [
    "# Z-score标准化\n",
    "from sklearn.preprocessing import StandardScaler\n",
    "ss = StandardScaler()\n",
    "data_input = ss.fit_transform(data_cluster)\n",
    "data_input"
   ]
  },
  {
   "cell_type": "markdown",
   "metadata": {},
   "source": [
    "### DBSCAN聚类"
   ]
  },
  {
   "cell_type": "code",
   "execution_count": 23,
   "metadata": {},
   "outputs": [
    {
     "name": "stdout",
     "output_type": "stream",
     "text": [
      "0.8524841012517187\n",
      "2\n"
     ]
    }
   ],
   "source": [
    "#DBSCAN聚类\n",
    "from sklearn.cluster import DBSCAN\n",
    "from sklearn.metrics import silhouette_score\n",
    "DB = DBSCAN(eps=9,min_samples=15)#eps为密度半径\n",
    "data_cluster['dbscan'] = DB.fit_predict(data_input)\n",
    "print(silhouette_score(data_input,data_cluster['dbscan']))\n",
    "print(len(np.unique(data_cluster['dbscan'])))"
   ]
  },
  {
   "cell_type": "code",
   "execution_count": 24,
   "metadata": {},
   "outputs": [
    {
     "data": {
      "text/html": [
       "<div>\n",
       "<style scoped>\n",
       "    .dataframe tbody tr th:only-of-type {\n",
       "        vertical-align: middle;\n",
       "    }\n",
       "\n",
       "    .dataframe tbody tr th {\n",
       "        vertical-align: top;\n",
       "    }\n",
       "\n",
       "    .dataframe thead th {\n",
       "        text-align: right;\n",
       "    }\n",
       "</style>\n",
       "<table border=\"1\" class=\"dataframe\">\n",
       "  <thead>\n",
       "    <tr style=\"text-align: right;\">\n",
       "      <th></th>\n",
       "      <th>eps</th>\n",
       "      <th>min_samples</th>\n",
       "      <th>score</th>\n",
       "      <th>clu_num</th>\n",
       "    </tr>\n",
       "  </thead>\n",
       "  <tbody>\n",
       "    <tr>\n",
       "      <th>0</th>\n",
       "      <td>2</td>\n",
       "      <td>5</td>\n",
       "      <td>0.019989</td>\n",
       "      <td>32</td>\n",
       "    </tr>\n",
       "    <tr>\n",
       "      <th>1</th>\n",
       "      <td>2</td>\n",
       "      <td>6</td>\n",
       "      <td>0.028969</td>\n",
       "      <td>22</td>\n",
       "    </tr>\n",
       "    <tr>\n",
       "      <th>2</th>\n",
       "      <td>2</td>\n",
       "      <td>7</td>\n",
       "      <td>0.058395</td>\n",
       "      <td>11</td>\n",
       "    </tr>\n",
       "    <tr>\n",
       "      <th>3</th>\n",
       "      <td>2</td>\n",
       "      <td>8</td>\n",
       "      <td>0.095485</td>\n",
       "      <td>10</td>\n",
       "    </tr>\n",
       "    <tr>\n",
       "      <th>4</th>\n",
       "      <td>2</td>\n",
       "      <td>9</td>\n",
       "      <td>0.135249</td>\n",
       "      <td>6</td>\n",
       "    </tr>\n",
       "    <tr>\n",
       "      <th>5</th>\n",
       "      <td>3</td>\n",
       "      <td>5</td>\n",
       "      <td>0.309773</td>\n",
       "      <td>5</td>\n",
       "    </tr>\n",
       "    <tr>\n",
       "      <th>6</th>\n",
       "      <td>3</td>\n",
       "      <td>6</td>\n",
       "      <td>0.422253</td>\n",
       "      <td>3</td>\n",
       "    </tr>\n",
       "    <tr>\n",
       "      <th>7</th>\n",
       "      <td>3</td>\n",
       "      <td>7</td>\n",
       "      <td>0.421469</td>\n",
       "      <td>3</td>\n",
       "    </tr>\n",
       "    <tr>\n",
       "      <th>8</th>\n",
       "      <td>3</td>\n",
       "      <td>8</td>\n",
       "      <td>0.439549</td>\n",
       "      <td>2</td>\n",
       "    </tr>\n",
       "    <tr>\n",
       "      <th>9</th>\n",
       "      <td>3</td>\n",
       "      <td>9</td>\n",
       "      <td>0.438079</td>\n",
       "      <td>2</td>\n",
       "    </tr>\n",
       "  </tbody>\n",
       "</table>\n",
       "</div>"
      ],
      "text/plain": [
       "   eps  min_samples     score  clu_num\n",
       "0    2            5  0.019989       32\n",
       "1    2            6  0.028969       22\n",
       "2    2            7  0.058395       11\n",
       "3    2            8  0.095485       10\n",
       "4    2            9  0.135249        6\n",
       "5    3            5  0.309773        5\n",
       "6    3            6  0.422253        3\n",
       "7    3            7  0.421469        3\n",
       "8    3            8  0.439549        2\n",
       "9    3            9  0.438079        2"
      ]
     },
     "execution_count": 24,
     "metadata": {},
     "output_type": "execute_result"
    }
   ],
   "source": [
    "from sklearn.cluster import DBSCAN\n",
    "from sklearn.metrics import silhouette_score\n",
    "res = []\n",
    "# 迭代不同的eps值\n",
    "for eps in np.arange(2,4,1):\n",
    "    # 迭代不同的min_samples值\n",
    "    for min_samples in np.arange(5,10,1):\n",
    "        dbscan = DBSCAN(eps = eps, min_samples = min_samples)\n",
    "        # 模型拟合\n",
    "        db_pre = dbscan.fit_predict(data_input)\n",
    "        #统计轮廓系数\n",
    "        k = silhouette_score(data_input,db_pre)\n",
    "        clu_num = len(np.unique(db_pre))\n",
    "        res.append({'eps':eps,'min_samples':min_samples,'score':k, 'clu_num':clu_num})\n",
    "# 将迭代后的结果存储到数据框中        \n",
    "df = pd.DataFrame(res)\n",
    "\n",
    "df"
   ]
  },
  {
   "cell_type": "code",
   "execution_count": 25,
   "metadata": {},
   "outputs": [
    {
     "name": "stdout",
     "output_type": "stream",
     "text": [
      "0.3097725099971472\n",
      "5\n"
     ]
    }
   ],
   "source": [
    "#DBSCAN聚类\n",
    "# 选择上面调参得出的最佳表现的参数组合进行聚类\n",
    "from sklearn.cluster import DBSCAN\n",
    "from sklearn.metrics import silhouette_score\n",
    "DB = DBSCAN(eps=3,min_samples=5)#eps为密度半径\n",
    "data['dbscan'] = DB.fit_predict(data_input)\n",
    "print(silhouette_score(data_input,data['dbscan']))\n",
    "print(len(np.unique(data['dbscan'])))"
   ]
  },
  {
   "cell_type": "code",
   "execution_count": 26,
   "metadata": {},
   "outputs": [
    {
     "data": {
      "text/plain": [
       " 0    47707\n",
       "-1     2279\n",
       " 2        8\n",
       " 3        4\n",
       " 1        2\n",
       "Name: dbscan, dtype: int64"
      ]
     },
     "execution_count": 26,
     "metadata": {},
     "output_type": "execute_result"
    }
   ],
   "source": [
    "data['dbscan'].value_counts()"
   ]
  },
  {
   "cell_type": "code",
   "execution_count": 27,
   "metadata": {},
   "outputs": [
    {
     "name": "stdout",
     "output_type": "stream",
     "text": [
      "<class 'pandas.core.frame.DataFrame'>\n",
      "RangeIndex: 50000 entries, 0 to 49999\n",
      "Data columns (total 26 columns):\n",
      " #   Column                 Non-Null Count  Dtype  \n",
      "---  ------                 --------------  -----  \n",
      " 0   assists                50000 non-null  float64\n",
      " 1   boosts                 50000 non-null  int64  \n",
      " 2   damageDealt            50000 non-null  float64\n",
      " 3   DBNOs                  50000 non-null  float64\n",
      " 4   headshotKills          50000 non-null  float64\n",
      " 5   heals                  50000 non-null  int64  \n",
      " 6   killPlace              50000 non-null  float64\n",
      " 7   kills                  50000 non-null  float64\n",
      " 8   killStreaks            50000 non-null  float64\n",
      " 9   longestKill            50000 non-null  float64\n",
      " 10  revives                50000 non-null  int64  \n",
      " 11  rideDistance           50000 non-null  float64\n",
      " 12  walkDistance           50000 non-null  float64\n",
      " 13  weaponsAcquired        50000 non-null  int64  \n",
      " 14  totalDistance          50000 non-null  float64\n",
      " 15  headshot_rate          50000 non-null  float64\n",
      " 16  kill_rate              50000 non-null  float64\n",
      " 17  playersInGroup         50000 non-null  int64  \n",
      " 18  killsPerDistance       50000 non-null  float64\n",
      " 19  distance_over_weapons  50000 non-null  float64\n",
      " 20  distance_over_heals    50000 non-null  float64\n",
      " 21  distance_over_kills    50000 non-null  float64\n",
      " 22  healthitems            50000 non-null  int64  \n",
      " 23  skill                  50000 non-null  float64\n",
      " 24  winPlacePerc           50000 non-null  float64\n",
      " 25  dbscan                 50000 non-null  int64  \n",
      "dtypes: float64(19), int64(7)\n",
      "memory usage: 9.9 MB\n"
     ]
    }
   ],
   "source": [
    "data.info()"
   ]
  },
  {
   "cell_type": "code",
   "execution_count": 28,
   "metadata": {},
   "outputs": [],
   "source": [
    "#导出数据集进行预测\n",
    "data.to_csv('select_cluster_squad_V2.csv',index=False)"
   ]
  },
  {
   "cell_type": "code",
   "execution_count": null,
   "metadata": {},
   "outputs": [],
   "source": []
  }
 ],
 "metadata": {
  "kernelspec": {
   "display_name": "Python 3",
   "language": "python",
   "name": "python3"
  },
  "language_info": {
   "codemirror_mode": {
    "name": "ipython",
    "version": 3
   },
   "file_extension": ".py",
   "mimetype": "text/x-python",
   "name": "python",
   "nbconvert_exporter": "python",
   "pygments_lexer": "ipython3",
   "version": "3.7.6"
  }
 },
 "nbformat": 4,
 "nbformat_minor": 4
}

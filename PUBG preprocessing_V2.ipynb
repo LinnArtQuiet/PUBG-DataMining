{
 "cells": [
  {
   "cell_type": "markdown",
   "metadata": {},
   "source": [
    "# PUBG绝地求生的获胜因素和获胜策略\n",
    "\n",
    "数据来源：kaggle（PUBG官方API爬取）https://www.kaggle.com/c/pubg-finish-placement-prediction/data\n",
    "\n",
    "<p>PUBG是由蓝洞开发并发行的一款射击游戏，大逃杀玩法是其红极一时的主要原因。在该游戏中,玩家从飞机上空降落到地图上的不同位置，从建筑物中寻找随机分布的武器、弹药、护甲和医疗用品，并向不断缩小的安全区内转移（安全区外会不断掉血）。在此过程中玩家需要保存自己、消灭对手，直到留下最后一个团队。"
   ]
  },
  {
   "cell_type": "markdown",
   "metadata": {},
   "source": [
    "## 本篇为样本筛选和数据预处理\n",
    "由于不同局比赛的人数和队伍数量不一，本课题通过matchId计算每局的总玩家人数，并筛选出总玩家在75到100的赛局"
   ]
  },
  {
   "cell_type": "code",
   "execution_count": 1,
   "metadata": {},
   "outputs": [],
   "source": [
    "#导入包\n",
    "import pandas as pd\n",
    "import matplotlib.pyplot as plt\n",
    "import seaborn as sns"
   ]
  },
  {
   "cell_type": "code",
   "execution_count": 2,
   "metadata": {},
   "outputs": [
    {
     "name": "stdout",
     "output_type": "stream",
     "text": [
      "<class 'pandas.core.frame.DataFrame'>\n",
      "RangeIndex: 4446966 entries, 0 to 4446965\n",
      "Data columns (total 29 columns):\n",
      " #   Column           Dtype  \n",
      "---  ------           -----  \n",
      " 0   Id               object \n",
      " 1   groupId          object \n",
      " 2   matchId          object \n",
      " 3   assists          int64  \n",
      " 4   boosts           int64  \n",
      " 5   damageDealt      float64\n",
      " 6   DBNOs            int64  \n",
      " 7   headshotKills    int64  \n",
      " 8   heals            int64  \n",
      " 9   killPlace        int64  \n",
      " 10  killPoints       int64  \n",
      " 11  kills            int64  \n",
      " 12  killStreaks      int64  \n",
      " 13  longestKill      float64\n",
      " 14  matchDuration    int64  \n",
      " 15  matchType        object \n",
      " 16  maxPlace         int64  \n",
      " 17  numGroups        int64  \n",
      " 18  rankPoints       int64  \n",
      " 19  revives          int64  \n",
      " 20  rideDistance     float64\n",
      " 21  roadKills        int64  \n",
      " 22  swimDistance     float64\n",
      " 23  teamKills        int64  \n",
      " 24  vehicleDestroys  int64  \n",
      " 25  walkDistance     float64\n",
      " 26  weaponsAcquired  int64  \n",
      " 27  winPoints        int64  \n",
      " 28  winPlacePerc     float64\n",
      "dtypes: float64(6), int64(19), object(4)\n",
      "memory usage: 983.9+ MB\n"
     ]
    }
   ],
   "source": [
    "#导入数据\n",
    "data = pd.read_csv('pubg.csv')\n",
    "data.info()"
   ]
  },
  {
   "cell_type": "markdown",
   "metadata": {},
   "source": [
    "原始数据集中共有4446966条数据，28个维度。其中winPlacePerc是本课题的研究对象。"
   ]
  },
  {
   "cell_type": "code",
   "execution_count": 3,
   "metadata": {},
   "outputs": [
    {
     "data": {
      "text/plain": [
       "Id                 0\n",
       "groupId            0\n",
       "matchId            0\n",
       "assists            0\n",
       "boosts             0\n",
       "damageDealt        0\n",
       "DBNOs              0\n",
       "headshotKills      0\n",
       "heals              0\n",
       "killPlace          0\n",
       "killPoints         0\n",
       "kills              0\n",
       "killStreaks        0\n",
       "longestKill        0\n",
       "matchDuration      0\n",
       "matchType          0\n",
       "maxPlace           0\n",
       "numGroups          0\n",
       "rankPoints         0\n",
       "revives            0\n",
       "rideDistance       0\n",
       "roadKills          0\n",
       "swimDistance       0\n",
       "teamKills          0\n",
       "vehicleDestroys    0\n",
       "walkDistance       0\n",
       "weaponsAcquired    0\n",
       "winPoints          0\n",
       "winPlacePerc       1\n",
       "dtype: int64"
      ]
     },
     "execution_count": 3,
     "metadata": {},
     "output_type": "execute_result"
    }
   ],
   "source": [
    "#检查各列是否存在缺失值\n",
    "data.isna().sum()"
   ]
  },
  {
   "cell_type": "code",
   "execution_count": 4,
   "metadata": {},
   "outputs": [],
   "source": [
    "#删去存在缺失值的行\n",
    "data = data.dropna(axis=\"index\",how='any',subset=['winPlacePerc'])"
   ]
  },
  {
   "cell_type": "code",
   "execution_count": 5,
   "metadata": {},
   "outputs": [],
   "source": [
    "#计算每个玩家对应赛局的总玩家人数\n",
    "data['playersJoined'] = data.groupby('matchId')['matchId'].transform('count')"
   ]
  },
  {
   "cell_type": "code",
   "execution_count": 6,
   "metadata": {},
   "outputs": [
    {
     "data": {
      "image/png": "[encoded data removed]",
      "text/plain": [
       "<Figure size 1440x576 with 1 Axes>"
      ]
     },
     "metadata": {
      "needs_background": "light"
     },
     "output_type": "display_data"
    }
   ],
   "source": [
    "# 通过绘制图像，查看每局开始人数\n",
    "# 通过seaborn下的countplot方法，可以直接绘制统计过数量之后的直方图\n",
    "plt.figure(figsize=(20,8))\n",
    "sns.countplot(data['playersJoined'])\n",
    "plt.title('playersJoined')\n",
    "plt.show()"
   ]
  },
  {
   "cell_type": "code",
   "execution_count": 7,
   "metadata": {},
   "outputs": [],
   "source": [
    "# 取赛局总玩家在75到100的赛局\n",
    "data = data[(data['playersJoined']>=75)]"
   ]
  },
  {
   "cell_type": "code",
   "execution_count": 8,
   "metadata": {},
   "outputs": [
    {
     "name": "stdout",
     "output_type": "stream",
     "text": [
      "<class 'pandas.core.frame.DataFrame'>\n",
      "Int64Index: 4389644 entries, 0 to 4446965\n",
      "Data columns (total 30 columns):\n",
      " #   Column           Dtype  \n",
      "---  ------           -----  \n",
      " 0   Id               object \n",
      " 1   groupId          object \n",
      " 2   matchId          object \n",
      " 3   assists          int64  \n",
      " 4   boosts           int64  \n",
      " 5   damageDealt      float64\n",
      " 6   DBNOs            int64  \n",
      " 7   headshotKills    int64  \n",
      " 8   heals            int64  \n",
      " 9   killPlace        int64  \n",
      " 10  killPoints       int64  \n",
      " 11  kills            int64  \n",
      " 12  killStreaks      int64  \n",
      " 13  longestKill      float64\n",
      " 14  matchDuration    int64  \n",
      " 15  matchType        object \n",
      " 16  maxPlace         int64  \n",
      " 17  numGroups        int64  \n",
      " 18  rankPoints       int64  \n",
      " 19  revives          int64  \n",
      " 20  rideDistance     float64\n",
      " 21  roadKills        int64  \n",
      " 22  swimDistance     float64\n",
      " 23  teamKills        int64  \n",
      " 24  vehicleDestroys  int64  \n",
      " 25  walkDistance     float64\n",
      " 26  weaponsAcquired  int64  \n",
      " 27  winPoints        int64  \n",
      " 28  winPlacePerc     float64\n",
      " 29  playersJoined    int64  \n",
      "dtypes: float64(6), int64(20), object(4)\n",
      "memory usage: 1.0+ GB\n"
     ]
    }
   ],
   "source": [
    "data.info()"
   ]
  },
  {
   "cell_type": "markdown",
   "metadata": {},
   "source": [
    "### 规范化部分特征值"
   ]
  },
  {
   "cell_type": "code",
   "execution_count": 9,
   "metadata": {},
   "outputs": [],
   "source": [
    "# 规范化部分特征值，排除赛局人数不同带来的影响\n",
    "# 使得每局水平都以100人局相当\n",
    "#data['assists'] = data['assists']*((100/data['playersJoined']))\n",
    "data['assists'] = data['assists']*((100-data['playersJoined'])/100 + 1)\n",
    "data['headshotKills'] = data['headshotKills']*((100-data['playersJoined'])/100 + 1)\n",
    "data['DBNOs'] = data['DBNOs']*((100-data['playersJoined'])/100 + 1)\n",
    "data['kills'] = data['kills']*((100-data['playersJoined'])/100 + 1)\n",
    "data['damageDealt'] = data['damageDealt']*((100-data['playersJoined'])/100 + 1)\n",
    "data['matchDuration'] = data['matchDuration']*((100-data['playersJoined'])/100 + 1)\n",
    "data['killStreaks'] = data['killStreaks']*((100-data['playersJoined'])/100 + 1)\n",
    "data['roadKills'] = data['roadKills']*((100-data['playersJoined'])/100 + 1)\n",
    "data['killPlace'] = data['killPlace']*((100-data['playersJoined'])/100 + 1)"
   ]
  },
  {
   "cell_type": "markdown",
   "metadata": {},
   "source": [
    "### 清洗异常数据\n",
    "- 有载具上击杀但没有载具移动距离"
   ]
  },
  {
   "cell_type": "code",
   "execution_count": 10,
   "metadata": {},
   "outputs": [
    {
     "data": {
      "text/plain": [
       "count     4389644\n",
       "unique          2\n",
       "top         False\n",
       "freq      4389458\n",
       "Name: roadkillsWithoutMoving, dtype: object"
      ]
     },
     "execution_count": 10,
     "metadata": {},
     "output_type": "execute_result"
    }
   ],
   "source": [
    "# 查看是否存在有载具上击杀但没有载具移动距离的数据\n",
    "data['roadkillsWithoutMoving']=((data['roadKills']>0)&(data['rideDistance']==0))\n",
    "data['roadkillsWithoutMoving'].describe()"
   ]
  },
  {
   "cell_type": "code",
   "execution_count": 11,
   "metadata": {},
   "outputs": [
    {
     "data": {
      "text/plain": [
       "(4389458, 31)"
      ]
     },
     "execution_count": 11,
     "metadata": {},
     "output_type": "execute_result"
    }
   ],
   "source": [
    "# 删除有载具上击杀但没有载具移动距离的数据\n",
    "data = data[data['roadkillsWithoutMoving'] == False]\n",
    "data.shape"
   ]
  },
  {
   "cell_type": "markdown",
   "metadata": {},
   "source": [
    "- 有击杀但是没有移动"
   ]
  },
  {
   "cell_type": "code",
   "execution_count": 12,
   "metadata": {},
   "outputs": [
    {
     "data": {
      "text/plain": [
       "count     4389458\n",
       "unique          2\n",
       "top         False\n",
       "freq      4389180\n",
       "Name: killsWithoutMoving, dtype: object"
      ]
     },
     "execution_count": 12,
     "metadata": {},
     "output_type": "execute_result"
    }
   ],
   "source": [
    "# 查看是否存在有击杀但是没有移动的数据\n",
    "data['totalDistance'] = data['rideDistance'] + data['walkDistance'] + data['swimDistance']\n",
    "data['killsWithoutMoving'] = ((data['kills']>0)&(data['totalDistance']==0))\n",
    "data[\"killsWithoutMoving\"].describe()"
   ]
  },
  {
   "cell_type": "code",
   "execution_count": 13,
   "metadata": {},
   "outputs": [
    {
     "data": {
      "text/plain": [
       "(4389180, 33)"
      ]
     },
     "execution_count": 13,
     "metadata": {},
     "output_type": "execute_result"
    }
   ],
   "source": [
    "#删除有击杀但是没有移动的数据\n",
    "data = data[data['killsWithoutMoving'] == False]\n",
    "data.shape"
   ]
  },
  {
   "cell_type": "markdown",
   "metadata": {},
   "source": [
    "- 有爆头击杀但没有获取武器"
   ]
  },
  {
   "cell_type": "code",
   "execution_count": 14,
   "metadata": {},
   "outputs": [
    {
     "data": {
      "text/plain": [
       "count     4389180\n",
       "unique          2\n",
       "top         False\n",
       "freq      4388328\n",
       "Name: headshotWithoutWeapon, dtype: object"
      ]
     },
     "execution_count": 14,
     "metadata": {},
     "output_type": "execute_result"
    }
   ],
   "source": [
    "# 查看是否存在有爆头击杀但没有获取武器的数据\n",
    "data['headshotWithoutWeapon']=((data['headshotKills']>0)&(data['weaponsAcquired']==0))\n",
    "data['headshotWithoutWeapon'].describe()"
   ]
  },
  {
   "cell_type": "code",
   "execution_count": 15,
   "metadata": {},
   "outputs": [
    {
     "data": {
      "text/plain": [
       "(4388328, 34)"
      ]
     },
     "execution_count": 15,
     "metadata": {},
     "output_type": "execute_result"
    }
   ],
   "source": [
    "#删除存在有爆头击杀但没有获取武器的数据\n",
    "data = data[data['headshotWithoutWeapon'] == False]\n",
    "data.shape"
   ]
  },
  {
   "cell_type": "markdown",
   "metadata": {},
   "source": [
    "- 击杀人数少于爆头和载具击杀总和"
   ]
  },
  {
   "cell_type": "code",
   "execution_count": 16,
   "metadata": {},
   "outputs": [
    {
     "data": {
      "text/plain": [
       "count     4388328\n",
       "unique          2\n",
       "top         False\n",
       "freq      4388326\n",
       "Name: killsLessHeadshotPlusRoad, dtype: object"
      ]
     },
     "execution_count": 16,
     "metadata": {},
     "output_type": "execute_result"
    }
   ],
   "source": [
    "# 查看是否存在有击杀人数少于爆头和载具击杀总和的数据\n",
    "data['killsLessHeadshotPlusRoad'] = data['kills']<(data['headshotKills']+data['roadKills'])\n",
    "data['killsLessHeadshotPlusRoad'].describe()"
   ]
  },
  {
   "cell_type": "code",
   "execution_count": 17,
   "metadata": {},
   "outputs": [
    {
     "data": {
      "text/plain": [
       "(4388326, 35)"
      ]
     },
     "execution_count": 17,
     "metadata": {},
     "output_type": "execute_result"
    }
   ],
   "source": [
    "#删除存在有击杀人数少于爆头和载具击杀总和的数据\n",
    "data = data[data['killsLessHeadshotPlusRoad'] == False]\n",
    "data.shape"
   ]
  },
  {
   "cell_type": "markdown",
   "metadata": {},
   "source": [
    "- 最远杀敌距离大于等于1.2km（枪械最远攻击距离）"
   ]
  },
  {
   "cell_type": "code",
   "execution_count": 18,
   "metadata": {},
   "outputs": [
    {
     "data": {
      "text/plain": [
       "count    4.388326e+06\n",
       "mean     2.285019e+01\n",
       "std      5.064537e+01\n",
       "min      0.000000e+00\n",
       "25%      0.000000e+00\n",
       "50%      0.000000e+00\n",
       "75%      2.116000e+01\n",
       "max      1.094000e+03\n",
       "Name: longestKill, dtype: float64"
      ]
     },
     "execution_count": 18,
     "metadata": {},
     "output_type": "execute_result"
    }
   ],
   "source": [
    "data['longestKill'].describe()"
   ]
  },
  {
   "cell_type": "markdown",
   "metadata": {},
   "source": [
    "- 武器获取过多"
   ]
  },
  {
   "cell_type": "code",
   "execution_count": 19,
   "metadata": {},
   "outputs": [
    {
     "data": {
      "image/png": "[encoded data removed]",
      "text/plain": [
       "<Figure size 1440x576 with 1 Axes>"
      ]
     },
     "metadata": {
      "needs_background": "light"
     },
     "output_type": "display_data"
    }
   ],
   "source": [
    "#查看武器获取情况\n",
    "plt.figure(figsize=(20,8))\n",
    "sns.countplot(data['weaponsAcquired'])\n",
    "plt.title('weaponsAcquired')\n",
    "plt.show()"
   ]
  },
  {
   "cell_type": "markdown",
   "metadata": {},
   "source": [
    "每局75-100个玩家，考虑到枪械资源的稀缺性，删除枪械获取数量超过80的玩家"
   ]
  },
  {
   "cell_type": "code",
   "execution_count": 20,
   "metadata": {},
   "outputs": [
    {
     "data": {
      "text/plain": [
       "(4388313, 35)"
      ]
     },
     "execution_count": 20,
     "metadata": {},
     "output_type": "execute_result"
    }
   ],
   "source": [
    "#删除武器获取异常的情况\n",
    "data = data[data['weaponsAcquired'] <= 80]\n",
    "data.shape"
   ]
  },
  {
   "cell_type": "markdown",
   "metadata": {},
   "source": [
    "### 特征工程\n",
    "- headshot_rate 爆头率：用于衡量玩家射击技术"
   ]
  },
  {
   "cell_type": "code",
   "execution_count": 21,
   "metadata": {},
   "outputs": [
    {
     "data": {
      "text/plain": [
       "count    4.388313e+06\n",
       "mean     1.029076e-01\n",
       "std      2.603856e-01\n",
       "min      0.000000e+00\n",
       "25%      0.000000e+00\n",
       "50%      0.000000e+00\n",
       "75%      0.000000e+00\n",
       "max      1.000000e+00\n",
       "Name: headshot_rate, dtype: float64"
      ]
     },
     "execution_count": 21,
     "metadata": {},
     "output_type": "execute_result"
    }
   ],
   "source": [
    "# 创建变量爆头率\n",
    "data['headshot_rate'] = data['headshotKills'] / data['kills']\n",
    "data['headshot_rate'] = data['headshot_rate'].fillna(0)\n",
    "data['headshot_rate'].describe()"
   ]
  },
  {
   "cell_type": "markdown",
   "metadata": {},
   "source": [
    "- kill_rate 击杀率：玩家遇敌后击杀敌方或仅仅造成伤害，同样衡量玩家的射击技术"
   ]
  },
  {
   "cell_type": "code",
   "execution_count": 22,
   "metadata": {},
   "outputs": [],
   "source": [
    "#创建变量击杀率\n",
    "#击杀率=击杀数/（击杀数+助攻数+击倒数）\n",
    "#助攻：造成伤害但未击杀\n",
    "data['kill_rate']=data.kills/(data.kills+data.assists+data.DBNOs)"
   ]
  },
  {
   "cell_type": "markdown",
   "metadata": {},
   "source": [
    "- playersInGroup: 队伍人数"
   ]
  },
  {
   "cell_type": "code",
   "execution_count": 23,
   "metadata": {},
   "outputs": [],
   "source": [
    "data['playersInGroup'] = data.groupby('groupId')['groupId'].transform('count')"
   ]
  },
  {
   "cell_type": "markdown",
   "metadata": {},
   "source": [
    "- 移动距离与物资获取和击杀"
   ]
  },
  {
   "cell_type": "code",
   "execution_count": 24,
   "metadata": {},
   "outputs": [],
   "source": [
    "#每移动一米获取的物资和击杀数\n",
    "data['weaponsPerDistance'] = data['weaponsAcquired'] /data['totalDistance']\n",
    "\n",
    "data['healsPerDistance'] = data['heals'] /data['walkDistance']\n",
    "\n",
    "data['killsPerDistance'] = data['kills'] /data['walkDistance']\n",
    "\n",
    "#每获取一个物资和一个击杀需要移动多远\n",
    "data['distance_over_weapons'] = data['totalDistance'] / data['weaponsAcquired']\n",
    "\n",
    "data['distance_over_heals'] = data['totalDistance'] / data['heals']\n",
    "\n",
    "data['distance_over_kills'] = data['totalDistance'] / data['kills']"
   ]
  },
  {
   "cell_type": "markdown",
   "metadata": {},
   "source": [
    "- healthitems: 防御性物资的获取总数"
   ]
  },
  {
   "cell_type": "code",
   "execution_count": 25,
   "metadata": {},
   "outputs": [],
   "source": [
    "data['healthitems'] = data['heals'] + data['boosts']"
   ]
  },
  {
   "cell_type": "markdown",
   "metadata": {},
   "source": [
    "- skill: 技巧击杀数量"
   ]
  },
  {
   "cell_type": "code",
   "execution_count": 26,
   "metadata": {},
   "outputs": [],
   "source": [
    "data[\"skill\"] = data[\"headshotKills\"] + data[\"roadKills\"] + data['killStreaks']"
   ]
  },
  {
   "cell_type": "markdown",
   "metadata": {},
   "source": [
    "- NAN和INF值处理"
   ]
  },
  {
   "cell_type": "code",
   "execution_count": 28,
   "metadata": {},
   "outputs": [],
   "source": [
    "import numpy as np\n",
    "data[data == np.Inf] = np.NaN\n",
    "data[data == np.NINF] = np.NaN\n",
    "data.fillna(0,inplace=True)"
   ]
  },
  {
   "cell_type": "markdown",
   "metadata": {},
   "source": [
    "### 导出初始样本集\n",
    "<p>删除以下与本课题无关的维度：\n",
    "<p>Id、groupId、matchId这三个ID与最终结果无关。（groupId保留至导出）\n",
    "<p>killPoints、rankPoints、winPoints由于API原因，数据可能有误，因此在本课题中不使用。\n",
    "<p>numGroups、maxPlace已通过计算特征化\n",
    "<p>killsWithoutMoving,roadkillsWithoutMoving,headshotWithoutWeapon,killsLessHeadshotPlusRoad等维度仅用于判定异常值"
   ]
  },
  {
   "cell_type": "code",
   "execution_count": 29,
   "metadata": {},
   "outputs": [
    {
     "data": {
      "text/plain": [
       "assists                  0\n",
       "boosts                   0\n",
       "damageDealt              0\n",
       "DBNOs                    0\n",
       "headshotKills            0\n",
       "heals                    0\n",
       "killPlace                0\n",
       "kills                    0\n",
       "killStreaks              0\n",
       "longestKill              0\n",
       "matchDuration            0\n",
       "matchType                0\n",
       "revives                  0\n",
       "rideDistance             0\n",
       "roadKills                0\n",
       "swimDistance             0\n",
       "teamKills                0\n",
       "vehicleDestroys          0\n",
       "walkDistance             0\n",
       "weaponsAcquired          0\n",
       "winPlacePerc             0\n",
       "totalDistance            0\n",
       "headshot_rate            0\n",
       "kill_rate                0\n",
       "playersInGroup           0\n",
       "weaponsPerDistance       0\n",
       "healsPerDistance         0\n",
       "killsPerDistance         0\n",
       "distance_over_weapons    0\n",
       "distance_over_heals      0\n",
       "distance_over_kills      0\n",
       "healthitems              0\n",
       "skill                    0\n",
       "dtype: int64"
      ]
     },
     "execution_count": 29,
     "metadata": {},
     "output_type": "execute_result"
    }
   ],
   "source": [
    "column = ['Id','groupId','matchId','maxPlace','killPoints','rankPoints','winPoints','numGroups','playersJoined','killsWithoutMoving','roadkillsWithoutMoving','headshotWithoutWeapon','killsLessHeadshotPlusRoad']\n",
    "data = data.drop(columns=column)\n",
    "#检查各列是否存在缺失值\n",
    "data.isna().sum()"
   ]
  },
  {
   "cell_type": "code",
   "execution_count": 30,
   "metadata": {},
   "outputs": [],
   "source": [
    "#先存一个原始的样本集\n",
    "data.to_csv('sample75-100.csv', index=False)"
   ]
  },
  {
   "cell_type": "markdown",
   "metadata": {},
   "source": [
    "### 筛选出针对不同问题的数据集\n",
    "<p>分别筛选出单排、双排、四排的数据集，并分开存储"
   ]
  },
  {
   "cell_type": "code",
   "execution_count": 1,
   "metadata": {},
   "outputs": [
    {
     "name": "stdout",
     "output_type": "stream",
     "text": [
      "<class 'pandas.core.frame.DataFrame'>\n",
      "RangeIndex: 4388313 entries, 0 to 4388312\n",
      "Data columns (total 33 columns):\n",
      " #   Column                 Dtype  \n",
      "---  ------                 -----  \n",
      " 0   assists                float64\n",
      " 1   boosts                 int64  \n",
      " 2   damageDealt            float64\n",
      " 3   DBNOs                  float64\n",
      " 4   headshotKills          float64\n",
      " 5   heals                  int64  \n",
      " 6   killPlace              float64\n",
      " 7   kills                  float64\n",
      " 8   killStreaks            float64\n",
      " 9   longestKill            float64\n",
      " 10  matchDuration          float64\n",
      " 11  matchType              object \n",
      " 12  revives                int64  \n",
      " 13  rideDistance           float64\n",
      " 14  roadKills              float64\n",
      " 15  swimDistance           float64\n",
      " 16  teamKills              int64  \n",
      " 17  vehicleDestroys        int64  \n",
      " 18  walkDistance           float64\n",
      " 19  weaponsAcquired        int64  \n",
      " 20  winPlacePerc           float64\n",
      " 21  totalDistance          float64\n",
      " 22  headshot_rate          float64\n",
      " 23  kill_rate              float64\n",
      " 24  playersInGroup         int64  \n",
      " 25  weaponsPerDistance     float64\n",
      " 26  healsPerDistance       float64\n",
      " 27  killsPerDistance       float64\n",
      " 28  distance_over_weapons  float64\n",
      " 29  distance_over_heals    float64\n",
      " 30  distance_over_kills    float64\n",
      " 31  healthitems            int64  \n",
      " 32  skill                  float64\n",
      "dtypes: float64(24), int64(8), object(1)\n",
      "memory usage: 1.1+ GB\n"
     ]
    }
   ],
   "source": [
    "#导入筛选比赛人数75-100人后的数据集，若重新运行可从这里开始\n",
    "import pandas as pd\n",
    "data = pd.read_csv('sample75-100.csv')\n",
    "data.info()"
   ]
  },
  {
   "cell_type": "code",
   "execution_count": 2,
   "metadata": {},
   "outputs": [
    {
     "data": {
      "text/plain": [
       "squad-fpp           1748572\n",
       "duo-fpp              990743\n",
       "squad                623393\n",
       "solo-fpp             532307\n",
       "duo                  311497\n",
       "solo                 171797\n",
       "crashfpp               5617\n",
       "flaretpp               2389\n",
       "normal-squad-fpp        939\n",
       "flarefpp                533\n",
       "normal-duo-fpp          254\n",
       "crashtpp                173\n",
       "normal-squad             99\n",
       "Name: matchType, dtype: int64"
      ]
     },
     "execution_count": 2,
     "metadata": {},
     "output_type": "execute_result"
    }
   ],
   "source": [
    "data['matchType'].value_counts()"
   ]
  },
  {
   "cell_type": "markdown",
   "metadata": {},
   "source": [
    "<p>单排：solo, solo-fpp\n",
    "<p>双排：duo, duo-fpp\n",
    "<p>四排：squad, squad-fpp\n",
    "<p>normal\\crash\\flare为其他比赛模式"
   ]
  },
  {
   "cell_type": "markdown",
   "metadata": {},
   "source": [
    "#### 单排"
   ]
  },
  {
   "cell_type": "code",
   "execution_count": 3,
   "metadata": {},
   "outputs": [
    {
     "data": {
      "text/plain": [
       "solo-fpp    532307\n",
       "solo        171797\n",
       "Name: matchType, dtype: int64"
      ]
     },
     "execution_count": 3,
     "metadata": {},
     "output_type": "execute_result"
    }
   ],
   "source": [
    "data1 = data[(data['matchType']=='solo')|(data['matchType']=='solo-fpp')]\n",
    "data1['matchType'].value_counts()"
   ]
  },
  {
   "cell_type": "code",
   "execution_count": 4,
   "metadata": {},
   "outputs": [
    {
     "data": {
      "text/plain": [
       "(704104, 32)"
      ]
     },
     "execution_count": 4,
     "metadata": {},
     "output_type": "execute_result"
    }
   ],
   "source": [
    "data1 = data1.drop(columns='matchType')\n",
    "data1.shape"
   ]
  },
  {
   "cell_type": "code",
   "execution_count": 5,
   "metadata": {},
   "outputs": [],
   "source": [
    "data1.to_csv('dataSolo_V2.csv', index=False)"
   ]
  },
  {
   "cell_type": "markdown",
   "metadata": {},
   "source": [
    "#### 双排"
   ]
  },
  {
   "cell_type": "code",
   "execution_count": 6,
   "metadata": {},
   "outputs": [
    {
     "data": {
      "text/plain": [
       "duo-fpp    990743\n",
       "duo        311497\n",
       "Name: matchType, dtype: int64"
      ]
     },
     "execution_count": 6,
     "metadata": {},
     "output_type": "execute_result"
    }
   ],
   "source": [
    "data2 = data[(data['matchType']=='duo')|(data['matchType']=='duo-fpp')]\n",
    "data2['matchType'].value_counts()"
   ]
  },
  {
   "cell_type": "code",
   "execution_count": 7,
   "metadata": {},
   "outputs": [
    {
     "data": {
      "text/plain": [
       "(1302240, 32)"
      ]
     },
     "execution_count": 7,
     "metadata": {},
     "output_type": "execute_result"
    }
   ],
   "source": [
    "data2 = data2.drop(columns='matchType')\n",
    "data2.shape"
   ]
  },
  {
   "cell_type": "code",
   "execution_count": 8,
   "metadata": {},
   "outputs": [],
   "source": [
    "data2.to_csv('dataDuo_V2.csv', index=False)"
   ]
  },
  {
   "cell_type": "markdown",
   "metadata": {},
   "source": [
    "#### 四排"
   ]
  },
  {
   "cell_type": "code",
   "execution_count": 9,
   "metadata": {},
   "outputs": [
    {
     "data": {
      "text/plain": [
       "squad-fpp    1748572\n",
       "squad         623393\n",
       "Name: matchType, dtype: int64"
      ]
     },
     "execution_count": 9,
     "metadata": {},
     "output_type": "execute_result"
    }
   ],
   "source": [
    "data3 = data[(data['matchType']=='squad')|(data['matchType']=='squad-fpp')]\n",
    "data3['matchType'].value_counts()"
   ]
  },
  {
   "cell_type": "code",
   "execution_count": 10,
   "metadata": {},
   "outputs": [
    {
     "data": {
      "text/plain": [
       "(2371965, 32)"
      ]
     },
     "execution_count": 10,
     "metadata": {},
     "output_type": "execute_result"
    }
   ],
   "source": [
    "data3 = data3.drop(columns='matchType')\n",
    "data3.shape"
   ]
  },
  {
   "cell_type": "code",
   "execution_count": 11,
   "metadata": {},
   "outputs": [],
   "source": [
    "data3.to_csv('dataSquad_V2.csv', index=False)"
   ]
  },
  {
   "cell_type": "code",
   "execution_count": null,
   "metadata": {},
   "outputs": [],
   "source": []
  }
 ],
 "metadata": {
  "kernelspec": {
   "display_name": "Python 3",
   "language": "python",
   "name": "python3"
  },
  "language_info": {
   "codemirror_mode": {
    "name": "ipython",
    "version": 3
   },
   "file_extension": ".py",
   "mimetype": "text/x-python",
   "name": "python",
   "nbconvert_exporter": "python",
   "pygments_lexer": "ipython3",
   "version": "3.7.6"
  }
 },
 "nbformat": 4,
 "nbformat_minor": 4
}
